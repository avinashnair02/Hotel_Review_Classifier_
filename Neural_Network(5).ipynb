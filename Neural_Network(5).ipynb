{
  "nbformat": 4,
  "nbformat_minor": 0,
  "metadata": {
    "colab": {
      "name": "Neural_Network.ipynb",
      "provenance": [],
      "collapsed_sections": []
    },
    "kernelspec": {
      "name": "python3",
      "display_name": "Python 3"
    },
    "language_info": {
      "name": "python"
    },
    "accelerator": "GPU"
  },
  "cells": [
    {
      "cell_type": "code",
      "metadata": {
        "colab": {
          "base_uri": "https://localhost:8080/"
        },
        "id": "U62wQzyEpk1Y",
        "outputId": "e374f688-bab5-412b-e24a-6677d8909751"
      },
      "source": [
        "!ls"
      ],
      "execution_count": 3,
      "outputs": [
        {
          "output_type": "stream",
          "text": [
            "drive  sample_data\n"
          ],
          "name": "stdout"
        }
      ]
    },
    {
      "cell_type": "code",
      "metadata": {
        "colab": {
          "base_uri": "https://localhost:8080/"
        },
        "id": "21RQye3QpbJx",
        "outputId": "d5355161-e780-4331-80c9-7d54af3af23a"
      },
      "source": [
        "%cd /content/drive/MyDrive/NLP\n"
      ],
      "execution_count": 7,
      "outputs": [
        {
          "output_type": "stream",
          "text": [
            "/content/drive/MyDrive/NLP\n"
          ],
          "name": "stdout"
        }
      ]
    },
    {
      "cell_type": "code",
      "metadata": {
        "colab": {
          "base_uri": "https://localhost:8080/"
        },
        "id": "XDsH5F7ipthL",
        "outputId": "8df4a57c-d251-4dd5-f30f-21c1b7754066"
      },
      "source": [
        "! git clone  https://github.com/avinashnair02/Hotel_Review_Classifier_"
      ],
      "execution_count": 11,
      "outputs": [
        {
          "output_type": "stream",
          "text": [
            "Cloning into 'Hotel_Review_Classifier_'...\n",
            "remote: Enumerating objects: 45, done.\u001b[K\n",
            "remote: Counting objects: 100% (45/45), done.\u001b[K\n",
            "remote: Compressing objects: 100% (33/33), done.\u001b[K\n",
            "remote: Total 45 (delta 11), reused 45 (delta 11), pack-reused 0\u001b[K\n",
            "Unpacking objects: 100% (45/45), done.\n",
            "Checking out files: 100% (45/45), done.\n"
          ],
          "name": "stdout"
        }
      ]
    },
    {
      "cell_type": "code",
      "metadata": {
        "id": "VVO2T_18rAx4"
      },
      "source": [
        "import sys\n",
        "sys.path.append('/content/drive/MyDrive/NLP/Hotel_Review_Classifier_/Helpers_NN.py')"
      ],
      "execution_count": 83,
      "outputs": []
    },
    {
      "cell_type": "code",
      "metadata": {
        "id": "c6uE6cH2svuB"
      },
      "source": [
        "import Helpers_NN\n"
      ],
      "execution_count": 84,
      "outputs": []
    },
    {
      "cell_type": "code",
      "metadata": {
        "id": "x_FyoHKKqCvY"
      },
      "source": [
        "import pandas as pd\n",
        "import numpy as np\n",
        "import seaborn as sns\n",
        "import matplotlib.pyplot as plt\n",
        "\n",
        "from sklearn.model_selection import train_test_split\n",
        "from sklearn.preprocessing import OneHotEncoder\n",
        "from sklearn.metrics import confusion_matrix\n",
        "\n",
        "from tensorflow import keras\n",
        "from keras.preprocessing import sequence\n",
        "from tensorflow.python.keras import Sequential\n",
        "from keras.models import load_model\n",
        "from tensorflow.python.keras.layers import Dense, Embedding, GlobalAveragePooling1D\n",
        "\n",
        "import pickle\n",
        "\n",
        "\n",
        "from Helpers_NN import add_sum_suffix, text_cleanup, reverse_encode, add_one_argmax_score, conf_matrix"
      ],
      "execution_count": 85,
      "outputs": []
    },
    {
      "cell_type": "code",
      "metadata": {
        "id": "mbfH_cXvsKS8"
      },
      "source": [
        "sns.set_context('poster')"
      ],
      "execution_count": 86,
      "outputs": []
    },
    {
      "cell_type": "code",
      "metadata": {
        "id": "fPY7x-s7sKVt"
      },
      "source": [
        "df = pd.read_csv('/content/drive/MyDrive/NLP/Hotel_Review_Classifier_/structured.csv')\n",
        "df.review_summary=df.astype(str)"
      ],
      "execution_count": 87,
      "outputs": []
    },
    {
      "cell_type": "code",
      "metadata": {
        "id": "n9avoA5owT_D"
      },
      "source": [
        ""
      ],
      "execution_count": 88,
      "outputs": []
    },
    {
      "cell_type": "code",
      "metadata": {
        "colab": {
          "base_uri": "https://localhost:8080/",
          "height": 202
        },
        "id": "4nU7dXYDq5P_",
        "outputId": "c27823d2-db23-4a3d-af2b-adfce6d8aeaa"
      },
      "source": [
        "df.head()"
      ],
      "execution_count": 89,
      "outputs": [
        {
          "output_type": "execute_result",
          "data": {
            "text/html": [
              "<div>\n",
              "<style scoped>\n",
              "    .dataframe tbody tr th:only-of-type {\n",
              "        vertical-align: middle;\n",
              "    }\n",
              "\n",
              "    .dataframe tbody tr th {\n",
              "        vertical-align: top;\n",
              "    }\n",
              "\n",
              "    .dataframe thead th {\n",
              "        text-align: right;\n",
              "    }\n",
              "</style>\n",
              "<table border=\"1\" class=\"dataframe\">\n",
              "  <thead>\n",
              "    <tr style=\"text-align: right;\">\n",
              "      <th></th>\n",
              "      <th>hotel_name</th>\n",
              "      <th>review_summary</th>\n",
              "      <th>score</th>\n",
              "      <th>review</th>\n",
              "    </tr>\n",
              "  </thead>\n",
              "  <tbody>\n",
              "    <tr>\n",
              "      <th>0</th>\n",
              "      <td>ITC Grand Chola, Chennai - a Luxury Collection...</td>\n",
              "      <td>ITC Grand Chola, Chennai - a Luxury Collection...</td>\n",
              "      <td>1</td>\n",
              "      <td>Hi,  My name is Vijay Jung Thapa - and I staye...</td>\n",
              "    </tr>\n",
              "    <tr>\n",
              "      <th>1</th>\n",
              "      <td>ITC Grand Chola, Chennai - a Luxury Collection...</td>\n",
              "      <td>ITC Grand Chola, Chennai - a Luxury Collection...</td>\n",
              "      <td>1</td>\n",
              "      <td>Hi,  My name is Vijay Jung Thapa - and I staye...</td>\n",
              "    </tr>\n",
              "    <tr>\n",
              "      <th>2</th>\n",
              "      <td>ITC Grand Chola, Chennai - a Luxury Collection...</td>\n",
              "      <td>ITC Grand Chola, Chennai - a Luxury Collection...</td>\n",
              "      <td>1</td>\n",
              "      <td>Hi,  My name is Vijay Jung Thapa - and I staye...</td>\n",
              "    </tr>\n",
              "    <tr>\n",
              "      <th>3</th>\n",
              "      <td>ITC Grand Chola, Chennai - a Luxury Collection...</td>\n",
              "      <td>ITC Grand Chola, Chennai - a Luxury Collection...</td>\n",
              "      <td>1</td>\n",
              "      <td>Hi,  My name is Vijay Jung Thapa - and I staye...</td>\n",
              "    </tr>\n",
              "    <tr>\n",
              "      <th>4</th>\n",
              "      <td>ITC Grand Chola, Chennai - a Luxury Collection...</td>\n",
              "      <td>ITC Grand Chola, Chennai - a Luxury Collection...</td>\n",
              "      <td>1</td>\n",
              "      <td>Hi,  My name is Vijay Jung Thapa - and I staye...</td>\n",
              "    </tr>\n",
              "  </tbody>\n",
              "</table>\n",
              "</div>"
            ],
            "text/plain": [
              "                                          hotel_name  ...                                             review\n",
              "0  ITC Grand Chola, Chennai - a Luxury Collection...  ...  Hi,  My name is Vijay Jung Thapa - and I staye...\n",
              "1  ITC Grand Chola, Chennai - a Luxury Collection...  ...  Hi,  My name is Vijay Jung Thapa - and I staye...\n",
              "2  ITC Grand Chola, Chennai - a Luxury Collection...  ...  Hi,  My name is Vijay Jung Thapa - and I staye...\n",
              "3  ITC Grand Chola, Chennai - a Luxury Collection...  ...  Hi,  My name is Vijay Jung Thapa - and I staye...\n",
              "4  ITC Grand Chola, Chennai - a Luxury Collection...  ...  Hi,  My name is Vijay Jung Thapa - and I staye...\n",
              "\n",
              "[5 rows x 4 columns]"
            ]
          },
          "metadata": {
            "tags": []
          },
          "execution_count": 89
        }
      ]
    },
    {
      "cell_type": "code",
      "metadata": {
        "colab": {
          "base_uri": "https://localhost:8080/"
        },
        "id": "FgNHAuMst9P-",
        "outputId": "b98b9802-b51d-460a-9d4b-13287ba14da0"
      },
      "source": [
        "df.score.unique()"
      ],
      "execution_count": 90,
      "outputs": [
        {
          "output_type": "execute_result",
          "data": {
            "text/plain": [
              "array([1, 2, 3, 4, 5])"
            ]
          },
          "metadata": {
            "tags": []
          },
          "execution_count": 90
        }
      ]
    },
    {
      "cell_type": "code",
      "metadata": {
        "id": "wukGolPbuBhC"
      },
      "source": [
        "#One Hot Encoding Scores Column"
      ],
      "execution_count": 91,
      "outputs": []
    },
    {
      "cell_type": "code",
      "metadata": {
        "id": "9rOlz-c_uLrQ"
      },
      "source": [
        "# For multi-class classifcation using the neural network model, \n",
        "# #I needed the target variable to be one hot encoded, as the output layer would have 5 nodes, 1 for each score."
      ],
      "execution_count": 92,
      "outputs": []
    },
    {
      "cell_type": "code",
      "metadata": {
        "colab": {
          "base_uri": "https://localhost:8080/",
          "height": 279
        },
        "id": "u5TzI-mPuQLy",
        "outputId": "1530d16c-8edd-4c11-9e02-7f9adce2b058"
      },
      "source": [
        "enc = OneHotEncoder(handle_unknown='ignore')\n",
        "\n",
        "enc_df = pd.DataFrame(enc.fit_transform(df[['score']]).toarray())\n",
        "\n",
        "df = df.join(enc_df)\n",
        "df.head()"
      ],
      "execution_count": 93,
      "outputs": [
        {
          "output_type": "execute_result",
          "data": {
            "text/html": [
              "<div>\n",
              "<style scoped>\n",
              "    .dataframe tbody tr th:only-of-type {\n",
              "        vertical-align: middle;\n",
              "    }\n",
              "\n",
              "    .dataframe tbody tr th {\n",
              "        vertical-align: top;\n",
              "    }\n",
              "\n",
              "    .dataframe thead th {\n",
              "        text-align: right;\n",
              "    }\n",
              "</style>\n",
              "<table border=\"1\" class=\"dataframe\">\n",
              "  <thead>\n",
              "    <tr style=\"text-align: right;\">\n",
              "      <th></th>\n",
              "      <th>hotel_name</th>\n",
              "      <th>review_summary</th>\n",
              "      <th>score</th>\n",
              "      <th>review</th>\n",
              "      <th>0</th>\n",
              "      <th>1</th>\n",
              "      <th>2</th>\n",
              "      <th>3</th>\n",
              "      <th>4</th>\n",
              "    </tr>\n",
              "  </thead>\n",
              "  <tbody>\n",
              "    <tr>\n",
              "      <th>0</th>\n",
              "      <td>ITC Grand Chola, Chennai - a Luxury Collection...</td>\n",
              "      <td>ITC Grand Chola, Chennai - a Luxury Collection...</td>\n",
              "      <td>1</td>\n",
              "      <td>Hi,  My name is Vijay Jung Thapa - and I staye...</td>\n",
              "      <td>1.0</td>\n",
              "      <td>0.0</td>\n",
              "      <td>0.0</td>\n",
              "      <td>0.0</td>\n",
              "      <td>0.0</td>\n",
              "    </tr>\n",
              "    <tr>\n",
              "      <th>1</th>\n",
              "      <td>ITC Grand Chola, Chennai - a Luxury Collection...</td>\n",
              "      <td>ITC Grand Chola, Chennai - a Luxury Collection...</td>\n",
              "      <td>1</td>\n",
              "      <td>Hi,  My name is Vijay Jung Thapa - and I staye...</td>\n",
              "      <td>1.0</td>\n",
              "      <td>0.0</td>\n",
              "      <td>0.0</td>\n",
              "      <td>0.0</td>\n",
              "      <td>0.0</td>\n",
              "    </tr>\n",
              "    <tr>\n",
              "      <th>2</th>\n",
              "      <td>ITC Grand Chola, Chennai - a Luxury Collection...</td>\n",
              "      <td>ITC Grand Chola, Chennai - a Luxury Collection...</td>\n",
              "      <td>1</td>\n",
              "      <td>Hi,  My name is Vijay Jung Thapa - and I staye...</td>\n",
              "      <td>1.0</td>\n",
              "      <td>0.0</td>\n",
              "      <td>0.0</td>\n",
              "      <td>0.0</td>\n",
              "      <td>0.0</td>\n",
              "    </tr>\n",
              "    <tr>\n",
              "      <th>3</th>\n",
              "      <td>ITC Grand Chola, Chennai - a Luxury Collection...</td>\n",
              "      <td>ITC Grand Chola, Chennai - a Luxury Collection...</td>\n",
              "      <td>1</td>\n",
              "      <td>Hi,  My name is Vijay Jung Thapa - and I staye...</td>\n",
              "      <td>1.0</td>\n",
              "      <td>0.0</td>\n",
              "      <td>0.0</td>\n",
              "      <td>0.0</td>\n",
              "      <td>0.0</td>\n",
              "    </tr>\n",
              "    <tr>\n",
              "      <th>4</th>\n",
              "      <td>ITC Grand Chola, Chennai - a Luxury Collection...</td>\n",
              "      <td>ITC Grand Chola, Chennai - a Luxury Collection...</td>\n",
              "      <td>1</td>\n",
              "      <td>Hi,  My name is Vijay Jung Thapa - and I staye...</td>\n",
              "      <td>1.0</td>\n",
              "      <td>0.0</td>\n",
              "      <td>0.0</td>\n",
              "      <td>0.0</td>\n",
              "      <td>0.0</td>\n",
              "    </tr>\n",
              "  </tbody>\n",
              "</table>\n",
              "</div>"
            ],
            "text/plain": [
              "                                          hotel_name  ...    4\n",
              "0  ITC Grand Chola, Chennai - a Luxury Collection...  ...  0.0\n",
              "1  ITC Grand Chola, Chennai - a Luxury Collection...  ...  0.0\n",
              "2  ITC Grand Chola, Chennai - a Luxury Collection...  ...  0.0\n",
              "3  ITC Grand Chola, Chennai - a Luxury Collection...  ...  0.0\n",
              "4  ITC Grand Chola, Chennai - a Luxury Collection...  ...  0.0\n",
              "\n",
              "[5 rows x 9 columns]"
            ]
          },
          "metadata": {
            "tags": []
          },
          "execution_count": 93
        }
      ]
    },
    {
      "cell_type": "code",
      "metadata": {
        "id": "Ouze1oN4uR2v"
      },
      "source": [
        "df = df.rename(columns={0: \"score_1\", 1:'score_2',2:'score_3',3:'score_4',4:'score_5'})"
      ],
      "execution_count": 94,
      "outputs": []
    },
    {
      "cell_type": "code",
      "metadata": {
        "colab": {
          "base_uri": "https://localhost:8080/",
          "height": 279
        },
        "id": "6LRtFM3_uTsO",
        "outputId": "72bb183f-1020-4c27-9af5-a91cc79d7420"
      },
      "source": [
        "df.head()"
      ],
      "execution_count": 95,
      "outputs": [
        {
          "output_type": "execute_result",
          "data": {
            "text/html": [
              "<div>\n",
              "<style scoped>\n",
              "    .dataframe tbody tr th:only-of-type {\n",
              "        vertical-align: middle;\n",
              "    }\n",
              "\n",
              "    .dataframe tbody tr th {\n",
              "        vertical-align: top;\n",
              "    }\n",
              "\n",
              "    .dataframe thead th {\n",
              "        text-align: right;\n",
              "    }\n",
              "</style>\n",
              "<table border=\"1\" class=\"dataframe\">\n",
              "  <thead>\n",
              "    <tr style=\"text-align: right;\">\n",
              "      <th></th>\n",
              "      <th>hotel_name</th>\n",
              "      <th>review_summary</th>\n",
              "      <th>score</th>\n",
              "      <th>review</th>\n",
              "      <th>score_1</th>\n",
              "      <th>score_2</th>\n",
              "      <th>score_3</th>\n",
              "      <th>score_4</th>\n",
              "      <th>score_5</th>\n",
              "    </tr>\n",
              "  </thead>\n",
              "  <tbody>\n",
              "    <tr>\n",
              "      <th>0</th>\n",
              "      <td>ITC Grand Chola, Chennai - a Luxury Collection...</td>\n",
              "      <td>ITC Grand Chola, Chennai - a Luxury Collection...</td>\n",
              "      <td>1</td>\n",
              "      <td>Hi,  My name is Vijay Jung Thapa - and I staye...</td>\n",
              "      <td>1.0</td>\n",
              "      <td>0.0</td>\n",
              "      <td>0.0</td>\n",
              "      <td>0.0</td>\n",
              "      <td>0.0</td>\n",
              "    </tr>\n",
              "    <tr>\n",
              "      <th>1</th>\n",
              "      <td>ITC Grand Chola, Chennai - a Luxury Collection...</td>\n",
              "      <td>ITC Grand Chola, Chennai - a Luxury Collection...</td>\n",
              "      <td>1</td>\n",
              "      <td>Hi,  My name is Vijay Jung Thapa - and I staye...</td>\n",
              "      <td>1.0</td>\n",
              "      <td>0.0</td>\n",
              "      <td>0.0</td>\n",
              "      <td>0.0</td>\n",
              "      <td>0.0</td>\n",
              "    </tr>\n",
              "    <tr>\n",
              "      <th>2</th>\n",
              "      <td>ITC Grand Chola, Chennai - a Luxury Collection...</td>\n",
              "      <td>ITC Grand Chola, Chennai - a Luxury Collection...</td>\n",
              "      <td>1</td>\n",
              "      <td>Hi,  My name is Vijay Jung Thapa - and I staye...</td>\n",
              "      <td>1.0</td>\n",
              "      <td>0.0</td>\n",
              "      <td>0.0</td>\n",
              "      <td>0.0</td>\n",
              "      <td>0.0</td>\n",
              "    </tr>\n",
              "    <tr>\n",
              "      <th>3</th>\n",
              "      <td>ITC Grand Chola, Chennai - a Luxury Collection...</td>\n",
              "      <td>ITC Grand Chola, Chennai - a Luxury Collection...</td>\n",
              "      <td>1</td>\n",
              "      <td>Hi,  My name is Vijay Jung Thapa - and I staye...</td>\n",
              "      <td>1.0</td>\n",
              "      <td>0.0</td>\n",
              "      <td>0.0</td>\n",
              "      <td>0.0</td>\n",
              "      <td>0.0</td>\n",
              "    </tr>\n",
              "    <tr>\n",
              "      <th>4</th>\n",
              "      <td>ITC Grand Chola, Chennai - a Luxury Collection...</td>\n",
              "      <td>ITC Grand Chola, Chennai - a Luxury Collection...</td>\n",
              "      <td>1</td>\n",
              "      <td>Hi,  My name is Vijay Jung Thapa - and I staye...</td>\n",
              "      <td>1.0</td>\n",
              "      <td>0.0</td>\n",
              "      <td>0.0</td>\n",
              "      <td>0.0</td>\n",
              "      <td>0.0</td>\n",
              "    </tr>\n",
              "  </tbody>\n",
              "</table>\n",
              "</div>"
            ],
            "text/plain": [
              "                                          hotel_name  ... score_5\n",
              "0  ITC Grand Chola, Chennai - a Luxury Collection...  ...     0.0\n",
              "1  ITC Grand Chola, Chennai - a Luxury Collection...  ...     0.0\n",
              "2  ITC Grand Chola, Chennai - a Luxury Collection...  ...     0.0\n",
              "3  ITC Grand Chola, Chennai - a Luxury Collection...  ...     0.0\n",
              "4  ITC Grand Chola, Chennai - a Luxury Collection...  ...     0.0\n",
              "\n",
              "[5 rows x 9 columns]"
            ]
          },
          "metadata": {
            "tags": []
          },
          "execution_count": 95
        }
      ]
    },
    {
      "cell_type": "code",
      "metadata": {
        "id": "dfP1YcIzuUVJ"
      },
      "source": [
        "# Train and test split"
      ],
      "execution_count": 96,
      "outputs": []
    },
    {
      "cell_type": "code",
      "metadata": {
        "id": "nyJ7gT7juXvx"
      },
      "source": [
        "x_train, x_test, y_train, y_test = train_test_split(df[['review','review_summary']], \n",
        "                                                    df[['score_1','score_2','score_3','score_4','score_5']], \n",
        "                                                    test_size=.2, \n",
        "                                                    random_state=42)"
      ],
      "execution_count": 97,
      "outputs": []
    },
    {
      "cell_type": "code",
      "metadata": {
        "id": "hG3j7nD7uZKs"
      },
      "source": [
        "y_test.to_csv('/content/drive/MyDrive/NLP/6.y_test_ohe.csv',index=False)"
      ],
      "execution_count": 98,
      "outputs": []
    },
    {
      "cell_type": "code",
      "metadata": {
        "id": "7GtNqV1Zu4vr"
      },
      "source": [
        "#  Add Suffix to the Review Summary to Distinguish the Difference\n",
        "# I wanted the words in the review summary to be separate from the words in the review,\n",
        "#  as they may have a more or less significant impact. Also new data may not contain a review summary and \n",
        "#  the model\n",
        "#  will not accurately reflect the review-only data."
      ],
      "execution_count": 99,
      "outputs": []
    },
    {
      "cell_type": "code",
      "metadata": {
        "id": "5kTfN8mbu9Tk"
      },
      "source": [
        "x_train['review_summary_suffixed'] = x_train['review_summary'].apply(add_sum_suffix)\n",
        "x_test['review_summary_suffixed'] = x_test['review_summary'].apply(add_sum_suffix)"
      ],
      "execution_count": 100,
      "outputs": []
    },
    {
      "cell_type": "code",
      "metadata": {
        "colab": {
          "base_uri": "https://localhost:8080/",
          "height": 195
        },
        "id": "ZFFCnquyu_cN",
        "outputId": "30265bc4-eca1-426b-f62b-77a4dd7642f2"
      },
      "source": [
        "x_train.head()"
      ],
      "execution_count": 101,
      "outputs": [
        {
          "output_type": "execute_result",
          "data": {
            "text/html": [
              "<div>\n",
              "<style scoped>\n",
              "    .dataframe tbody tr th:only-of-type {\n",
              "        vertical-align: middle;\n",
              "    }\n",
              "\n",
              "    .dataframe tbody tr th {\n",
              "        vertical-align: top;\n",
              "    }\n",
              "\n",
              "    .dataframe thead th {\n",
              "        text-align: right;\n",
              "    }\n",
              "</style>\n",
              "<table border=\"1\" class=\"dataframe\">\n",
              "  <thead>\n",
              "    <tr style=\"text-align: right;\">\n",
              "      <th></th>\n",
              "      <th>review</th>\n",
              "      <th>review_summary</th>\n",
              "      <th>review_summary_suffixed</th>\n",
              "    </tr>\n",
              "  </thead>\n",
              "  <tbody>\n",
              "    <tr>\n",
              "      <th>3994</th>\n",
              "      <td>Had a very comfortable stay at Taj Club house ...</td>\n",
              "      <td>Taj Club House</td>\n",
              "      <td>taj_sum club_sum house_sum</td>\n",
              "    </tr>\n",
              "    <tr>\n",
              "      <th>423</th>\n",
              "      <td>I am a hilton Honors silver member and have st...</td>\n",
              "      <td>Hilton Chennai</td>\n",
              "      <td>hilton_sum chennai_sum</td>\n",
              "    </tr>\n",
              "    <tr>\n",
              "      <th>2991</th>\n",
              "      <td>-Good hotel setup with average sized rooms. Ex...</td>\n",
              "      <td>The Park Chennai</td>\n",
              "      <td>the_sum park_sum chennai_sum</td>\n",
              "    </tr>\n",
              "    <tr>\n",
              "      <th>1221</th>\n",
              "      <td>I happen to be at Hilton for a dinner with a f...</td>\n",
              "      <td>Hilton Chennai</td>\n",
              "      <td>hilton_sum chennai_sum</td>\n",
              "    </tr>\n",
              "    <tr>\n",
              "      <th>506</th>\n",
              "      <td>The staff is very nice but big lack of trainin...</td>\n",
              "      <td>Hilton Chennai</td>\n",
              "      <td>hilton_sum chennai_sum</td>\n",
              "    </tr>\n",
              "  </tbody>\n",
              "</table>\n",
              "</div>"
            ],
            "text/plain": [
              "                                                 review  ...        review_summary_suffixed\n",
              "3994  Had a very comfortable stay at Taj Club house ...  ...    taj_sum club_sum house_sum \n",
              "423   I am a hilton Honors silver member and have st...  ...        hilton_sum chennai_sum \n",
              "2991  -Good hotel setup with average sized rooms. Ex...  ...  the_sum park_sum chennai_sum \n",
              "1221  I happen to be at Hilton for a dinner with a f...  ...        hilton_sum chennai_sum \n",
              "506   The staff is very nice but big lack of trainin...  ...        hilton_sum chennai_sum \n",
              "\n",
              "[5 rows x 3 columns]"
            ]
          },
          "metadata": {
            "tags": []
          },
          "execution_count": 101
        }
      ]
    },
    {
      "cell_type": "code",
      "metadata": {
        "id": "R3axn2Iyxr-V"
      },
      "source": [
        "x_train['review_cleaned'] = x_train['review'].apply(text_cleanup)\n",
        "x_test['review_cleaned'] = x_test['review'].apply(text_cleanup)"
      ],
      "execution_count": 103,
      "outputs": []
    },
    {
      "cell_type": "code",
      "metadata": {
        "colab": {
          "base_uri": "https://localhost:8080/",
          "height": 570
        },
        "id": "kvXvI6CLy4Mx",
        "outputId": "f48f0fb1-0a01-4742-81da-597cd6dc5cc9"
      },
      "source": [
        "x_train"
      ],
      "execution_count": 104,
      "outputs": [
        {
          "output_type": "execute_result",
          "data": {
            "text/html": [
              "<div>\n",
              "<style scoped>\n",
              "    .dataframe tbody tr th:only-of-type {\n",
              "        vertical-align: middle;\n",
              "    }\n",
              "\n",
              "    .dataframe tbody tr th {\n",
              "        vertical-align: top;\n",
              "    }\n",
              "\n",
              "    .dataframe thead th {\n",
              "        text-align: right;\n",
              "    }\n",
              "</style>\n",
              "<table border=\"1\" class=\"dataframe\">\n",
              "  <thead>\n",
              "    <tr style=\"text-align: right;\">\n",
              "      <th></th>\n",
              "      <th>review</th>\n",
              "      <th>review_summary</th>\n",
              "      <th>review_summary_suffixed</th>\n",
              "      <th>review_cleaned</th>\n",
              "    </tr>\n",
              "  </thead>\n",
              "  <tbody>\n",
              "    <tr>\n",
              "      <th>3994</th>\n",
              "      <td>Had a very comfortable stay at Taj Club house ...</td>\n",
              "      <td>Taj Club House</td>\n",
              "      <td>taj_sum club_sum house_sum</td>\n",
              "      <td>had a very comfortable stay at taj club house ...</td>\n",
              "    </tr>\n",
              "    <tr>\n",
              "      <th>423</th>\n",
              "      <td>I am a hilton Honors silver member and have st...</td>\n",
              "      <td>Hilton Chennai</td>\n",
              "      <td>hilton_sum chennai_sum</td>\n",
              "      <td>i am a hilton honors silver member and have st...</td>\n",
              "    </tr>\n",
              "    <tr>\n",
              "      <th>2991</th>\n",
              "      <td>-Good hotel setup with average sized rooms. Ex...</td>\n",
              "      <td>The Park Chennai</td>\n",
              "      <td>the_sum park_sum chennai_sum</td>\n",
              "      <td>good hotel setup with average sized rooms exec...</td>\n",
              "    </tr>\n",
              "    <tr>\n",
              "      <th>1221</th>\n",
              "      <td>I happen to be at Hilton for a dinner with a f...</td>\n",
              "      <td>Hilton Chennai</td>\n",
              "      <td>hilton_sum chennai_sum</td>\n",
              "      <td>i happen to be at hilton for a dinner with a f...</td>\n",
              "    </tr>\n",
              "    <tr>\n",
              "      <th>506</th>\n",
              "      <td>The staff is very nice but big lack of trainin...</td>\n",
              "      <td>Hilton Chennai</td>\n",
              "      <td>hilton_sum chennai_sum</td>\n",
              "      <td>the staff is very nice but big lack of trainin...</td>\n",
              "    </tr>\n",
              "    <tr>\n",
              "      <th>...</th>\n",
              "      <td>...</td>\n",
              "      <td>...</td>\n",
              "      <td>...</td>\n",
              "      <td>...</td>\n",
              "    </tr>\n",
              "    <tr>\n",
              "      <th>1130</th>\n",
              "      <td>I was on a family visit to Chennai few weeks a...</td>\n",
              "      <td>Taj Club House</td>\n",
              "      <td>taj_sum club_sum house_sum</td>\n",
              "      <td>i was on a family visit to chennai few weeks a...</td>\n",
              "    </tr>\n",
              "    <tr>\n",
              "      <th>1294</th>\n",
              "      <td>We recently had a 2 night visit to The Park. T...</td>\n",
              "      <td>The Park Chennai</td>\n",
              "      <td>the_sum park_sum chennai_sum</td>\n",
              "      <td>we recently had a night visit to the park the ...</td>\n",
              "    </tr>\n",
              "    <tr>\n",
              "      <th>860</th>\n",
              "      <td>We had unfortunately stayed in this hotel for ...</td>\n",
              "      <td>Lemon Tree Hotel, Chennai</td>\n",
              "      <td>lemon_sum tree_sum hotel_sum chennai_sum</td>\n",
              "      <td>we had unfortunately stayed in this hotel for ...</td>\n",
              "    </tr>\n",
              "    <tr>\n",
              "      <th>3507</th>\n",
              "      <td>The hotel is located in the city,  The hotel h...</td>\n",
              "      <td>The Park Chennai</td>\n",
              "      <td>the_sum park_sum chennai_sum</td>\n",
              "      <td>the hotel is located in the city the hotel has...</td>\n",
              "    </tr>\n",
              "    <tr>\n",
              "      <th>3174</th>\n",
              "      <td>What I found of various other ITC Hotels is al...</td>\n",
              "      <td>ITC Grand Chola, Chennai - a Luxury Collection...</td>\n",
              "      <td>itc_sum grand_sum chola_sum chennai_sum a_sum ...</td>\n",
              "      <td>what i found of various other itc hotels is al...</td>\n",
              "    </tr>\n",
              "  </tbody>\n",
              "</table>\n",
              "<p>3200 rows × 4 columns</p>\n",
              "</div>"
            ],
            "text/plain": [
              "                                                 review  ...                                     review_cleaned\n",
              "3994  Had a very comfortable stay at Taj Club house ...  ...  had a very comfortable stay at taj club house ...\n",
              "423   I am a hilton Honors silver member and have st...  ...  i am a hilton honors silver member and have st...\n",
              "2991  -Good hotel setup with average sized rooms. Ex...  ...  good hotel setup with average sized rooms exec...\n",
              "1221  I happen to be at Hilton for a dinner with a f...  ...  i happen to be at hilton for a dinner with a f...\n",
              "506   The staff is very nice but big lack of trainin...  ...  the staff is very nice but big lack of trainin...\n",
              "...                                                 ...  ...                                                ...\n",
              "1130  I was on a family visit to Chennai few weeks a...  ...  i was on a family visit to chennai few weeks a...\n",
              "1294  We recently had a 2 night visit to The Park. T...  ...  we recently had a night visit to the park the ...\n",
              "860   We had unfortunately stayed in this hotel for ...  ...  we had unfortunately stayed in this hotel for ...\n",
              "3507  The hotel is located in the city,  The hotel h...  ...  the hotel is located in the city the hotel has...\n",
              "3174  What I found of various other ITC Hotels is al...  ...  what i found of various other itc hotels is al...\n",
              "\n",
              "[3200 rows x 4 columns]"
            ]
          },
          "metadata": {
            "tags": []
          },
          "execution_count": 104
        }
      ]
    },
    {
      "cell_type": "code",
      "metadata": {
        "id": "wqL8QT62zWTL"
      },
      "source": [
        "#  Creating a Dictionary With Words That Appear in Reviews and an Index"
      ],
      "execution_count": null,
      "outputs": []
    },
    {
      "cell_type": "code",
      "metadata": {
        "id": "h2ms2KyPzcqU"
      },
      "source": [
        "# I created an index for each word in the training review dataset, so when passed through the embedding layer of the neural network there is an indexed number associated with each word."
      ],
      "execution_count": 105,
      "outputs": []
    },
    {
      "cell_type": "code",
      "metadata": {
        "id": "teZfNAB_zcsc"
      },
      "source": [
        "flat_review = \" \".join(x_train['review_cleaned'].values)\n",
        "flat_review = flat_review.lower().split()"
      ],
      "execution_count": 106,
      "outputs": []
    },
    {
      "cell_type": "code",
      "metadata": {
        "colab": {
          "base_uri": "https://localhost:8080/"
        },
        "id": "vG1T1agczfEG",
        "outputId": "e3253337-9688-42a7-f0db-9760860072b2"
      },
      "source": [
        "len(flat_review)"
      ],
      "execution_count": 107,
      "outputs": [
        {
          "output_type": "execute_result",
          "data": {
            "text/plain": [
              "317498"
            ]
          },
          "metadata": {
            "tags": []
          },
          "execution_count": 107
        }
      ]
    },
    {
      "cell_type": "code",
      "metadata": {
        "id": "kcVgr89jzgW5"
      },
      "source": [
        "flat_review_summary = \" \".join(x_train['review_summary_suffixed'].values)\n",
        "flat_review_summary = flat_review_summary.lower().split()"
      ],
      "execution_count": 108,
      "outputs": []
    },
    {
      "cell_type": "code",
      "metadata": {
        "id": "RSVkFEyjzhmT"
      },
      "source": [
        "unique_list = []\n",
        "for word in flat_review:\n",
        "    if word not in unique_list:\n",
        "        unique_list.append(word)\n",
        "for word in flat_review_summary:\n",
        "    if word not in unique_list:\n",
        "        unique_list.append(word)"
      ],
      "execution_count": 109,
      "outputs": []
    },
    {
      "cell_type": "code",
      "metadata": {
        "colab": {
          "base_uri": "https://localhost:8080/"
        },
        "id": "SgdHinNJzilz",
        "outputId": "12b75c65-04c8-436f-b617-0f30dfd2062b"
      },
      "source": [
        "len(unique_list)"
      ],
      "execution_count": 110,
      "outputs": [
        {
          "output_type": "execute_result",
          "data": {
            "text/plain": [
              "7242"
            ]
          },
          "metadata": {
            "tags": []
          },
          "execution_count": 110
        }
      ]
    },
    {
      "cell_type": "code",
      "metadata": {
        "id": "l0Zbidbczl5p"
      },
      "source": [
        "word_index_dict = {}\n",
        "for i in range(0,len(unique_list)):\n",
        "    word_index_dict[unique_list[i]] = i"
      ],
      "execution_count": 111,
      "outputs": []
    },
    {
      "cell_type": "markdown",
      "metadata": {
        "id": "Oe_mGv6xzokN"
      },
      "source": [
        "I added 4 other items to the dictionary that represented padding, the start of the review, unknown words, and unused words."
      ]
    },
    {
      "cell_type": "code",
      "metadata": {
        "id": "SViMBQ1JzpU7"
      },
      "source": [
        "word_index_dict = {k:(v+4) for k,v in word_index_dict.items()}\n",
        "word_index_dict['<PAD>'] = 0\n",
        "word_index_dict['<START>'] = 1\n",
        "word_index_dict['<UNK>'] = 2\n",
        "word_index_dict['<UNUSED>'] = 3"
      ],
      "execution_count": 112,
      "outputs": []
    },
    {
      "cell_type": "markdown",
      "metadata": {
        "id": "jxwLjez6zt46"
      },
      "source": [
        "Indexing Words in Reviews Using Dictionary"
      ]
    },
    {
      "cell_type": "code",
      "metadata": {
        "id": "Roj7piKHzuTM"
      },
      "source": [
        "def index_review_words(text):\n",
        "    review_word_list = []\n",
        "    for word in text.lower().split():\n",
        "        if word in word_index_dict.keys():\n",
        "            review_word_list.append(word_index_dict[word])\n",
        "        else:\n",
        "            review_word_list.append(word_index_dict['<UNK>'])\n",
        "\n",
        "    return review_word_list "
      ],
      "execution_count": 113,
      "outputs": []
    },
    {
      "cell_type": "code",
      "metadata": {
        "id": "WQx4JpFwzwC9"
      },
      "source": [
        "x_train['preprocessed_review'] = x_train['review_cleaned'].apply(index_review_words)\n",
        "x_test['preprocessed_review'] = x_test['review_cleaned'].apply(index_review_words)"
      ],
      "execution_count": 114,
      "outputs": []
    },
    {
      "cell_type": "code",
      "metadata": {
        "id": "55U3jn7Hzw66"
      },
      "source": [
        "x_train['preprocessed_review_summary'] = x_train['review_summary_suffixed'].apply(index_review_words)\n",
        "x_test['preprocessed_review_summary'] = x_test['review_summary_suffixed'].apply(index_review_words)"
      ],
      "execution_count": 115,
      "outputs": []
    },
    {
      "cell_type": "code",
      "metadata": {
        "colab": {
          "base_uri": "https://localhost:8080/",
          "height": 721
        },
        "id": "q6mCd_3fzx8v",
        "outputId": "af0fa649-6da4-4649-b312-9c7b16db65d0"
      },
      "source": [
        "x_train\n",
        "\n"
      ],
      "execution_count": 116,
      "outputs": [
        {
          "output_type": "execute_result",
          "data": {
            "text/html": [
              "<div>\n",
              "<style scoped>\n",
              "    .dataframe tbody tr th:only-of-type {\n",
              "        vertical-align: middle;\n",
              "    }\n",
              "\n",
              "    .dataframe tbody tr th {\n",
              "        vertical-align: top;\n",
              "    }\n",
              "\n",
              "    .dataframe thead th {\n",
              "        text-align: right;\n",
              "    }\n",
              "</style>\n",
              "<table border=\"1\" class=\"dataframe\">\n",
              "  <thead>\n",
              "    <tr style=\"text-align: right;\">\n",
              "      <th></th>\n",
              "      <th>review</th>\n",
              "      <th>review_summary</th>\n",
              "      <th>review_summary_suffixed</th>\n",
              "      <th>review_cleaned</th>\n",
              "      <th>preprocessed_review</th>\n",
              "      <th>preprocessed_review_summary</th>\n",
              "    </tr>\n",
              "  </thead>\n",
              "  <tbody>\n",
              "    <tr>\n",
              "      <th>3994</th>\n",
              "      <td>Had a very comfortable stay at Taj Club house ...</td>\n",
              "      <td>Taj Club House</td>\n",
              "      <td>taj_sum club_sum house_sum</td>\n",
              "      <td>had a very comfortable stay at taj club house ...</td>\n",
              "      <td>[4, 5, 6, 7, 8, 9, 10, 11, 12, 13, 14, 15, 16,...</td>\n",
              "      <td>[7224, 7225, 7226]</td>\n",
              "    </tr>\n",
              "    <tr>\n",
              "      <th>423</th>\n",
              "      <td>I am a hilton Honors silver member and have st...</td>\n",
              "      <td>Hilton Chennai</td>\n",
              "      <td>hilton_sum chennai_sum</td>\n",
              "      <td>i am a hilton honors silver member and have st...</td>\n",
              "      <td>[42, 43, 5, 44, 45, 46, 47, 48, 49, 50, 14, 51...</td>\n",
              "      <td>[7227, 7228]</td>\n",
              "    </tr>\n",
              "    <tr>\n",
              "      <th>2991</th>\n",
              "      <td>-Good hotel setup with average sized rooms. Ex...</td>\n",
              "      <td>The Park Chennai</td>\n",
              "      <td>the_sum park_sum chennai_sum</td>\n",
              "      <td>good hotel setup with average sized rooms exec...</td>\n",
              "      <td>[109, 96, 110, 26, 111, 112, 25, 113, 114, 115...</td>\n",
              "      <td>[7229, 7230, 7228]</td>\n",
              "    </tr>\n",
              "    <tr>\n",
              "      <th>1221</th>\n",
              "      <td>I happen to be at Hilton for a dinner with a f...</td>\n",
              "      <td>Hilton Chennai</td>\n",
              "      <td>hilton_sum chennai_sum</td>\n",
              "      <td>i happen to be at hilton for a dinner with a f...</td>\n",
              "      <td>[42, 177, 19, 178, 9, 44, 33, 5, 179, 26, 5, 1...</td>\n",
              "      <td>[7227, 7228]</td>\n",
              "    </tr>\n",
              "    <tr>\n",
              "      <th>506</th>\n",
              "      <td>The staff is very nice but big lack of trainin...</td>\n",
              "      <td>Hilton Chennai</td>\n",
              "      <td>hilton_sum chennai_sum</td>\n",
              "      <td>the staff is very nice but big lack of trainin...</td>\n",
              "      <td>[15, 131, 103, 6, 200, 236, 243, 244, 30, 245,...</td>\n",
              "      <td>[7227, 7228]</td>\n",
              "    </tr>\n",
              "    <tr>\n",
              "      <th>...</th>\n",
              "      <td>...</td>\n",
              "      <td>...</td>\n",
              "      <td>...</td>\n",
              "      <td>...</td>\n",
              "      <td>...</td>\n",
              "      <td>...</td>\n",
              "    </tr>\n",
              "    <tr>\n",
              "      <th>1130</th>\n",
              "      <td>I was on a family visit to Chennai few weeks a...</td>\n",
              "      <td>Taj Club House</td>\n",
              "      <td>taj_sum club_sum house_sum</td>\n",
              "      <td>i was on a family visit to chennai few weeks a...</td>\n",
              "      <td>[42, 56, 63, 5, 68, 332, 19, 55, 457, 1414, 14...</td>\n",
              "      <td>[7224, 7225, 7226]</td>\n",
              "    </tr>\n",
              "    <tr>\n",
              "      <th>1294</th>\n",
              "      <td>We recently had a 2 night visit to The Park. T...</td>\n",
              "      <td>The Park Chennai</td>\n",
              "      <td>the_sum park_sum chennai_sum</td>\n",
              "      <td>we recently had a night visit to the park the ...</td>\n",
              "      <td>[69, 2213, 4, 5, 107, 332, 19, 15, 411, 15, 96...</td>\n",
              "      <td>[7229, 7230, 7228]</td>\n",
              "    </tr>\n",
              "    <tr>\n",
              "      <th>860</th>\n",
              "      <td>We had unfortunately stayed in this hotel for ...</td>\n",
              "      <td>Lemon Tree Hotel, Chennai</td>\n",
              "      <td>lemon_sum tree_sum hotel_sum chennai_sum</td>\n",
              "      <td>we had unfortunately stayed in this hotel for ...</td>\n",
              "      <td>[69, 4, 182, 50, 14, 95, 96, 33, 5, 1321, 30, ...</td>\n",
              "      <td>[7231, 7232, 7233, 7228]</td>\n",
              "    </tr>\n",
              "    <tr>\n",
              "      <th>3507</th>\n",
              "      <td>The hotel is located in the city,  The hotel h...</td>\n",
              "      <td>The Park Chennai</td>\n",
              "      <td>the_sum park_sum chennai_sum</td>\n",
              "      <td>the hotel is located in the city the hotel has...</td>\n",
              "      <td>[15, 96, 103, 13, 14, 15, 16, 15, 96, 796, 152...</td>\n",
              "      <td>[7229, 7230, 7228]</td>\n",
              "    </tr>\n",
              "    <tr>\n",
              "      <th>3174</th>\n",
              "      <td>What I found of various other ITC Hotels is al...</td>\n",
              "      <td>ITC Grand Chola, Chennai - a Luxury Collection...</td>\n",
              "      <td>itc_sum grand_sum chola_sum chennai_sum a_sum ...</td>\n",
              "      <td>what i found of various other itc hotels is al...</td>\n",
              "      <td>[167, 42, 448, 30, 445, 388, 1288, 52, 103, 14...</td>\n",
              "      <td>[7237, 7238, 7239, 7228, 7240, 7241, 7242, 7233]</td>\n",
              "    </tr>\n",
              "  </tbody>\n",
              "</table>\n",
              "<p>3200 rows × 6 columns</p>\n",
              "</div>"
            ],
            "text/plain": [
              "                                                 review  ...                       preprocessed_review_summary\n",
              "3994  Had a very comfortable stay at Taj Club house ...  ...                                [7224, 7225, 7226]\n",
              "423   I am a hilton Honors silver member and have st...  ...                                      [7227, 7228]\n",
              "2991  -Good hotel setup with average sized rooms. Ex...  ...                                [7229, 7230, 7228]\n",
              "1221  I happen to be at Hilton for a dinner with a f...  ...                                      [7227, 7228]\n",
              "506   The staff is very nice but big lack of trainin...  ...                                      [7227, 7228]\n",
              "...                                                 ...  ...                                               ...\n",
              "1130  I was on a family visit to Chennai few weeks a...  ...                                [7224, 7225, 7226]\n",
              "1294  We recently had a 2 night visit to The Park. T...  ...                                [7229, 7230, 7228]\n",
              "860   We had unfortunately stayed in this hotel for ...  ...                          [7231, 7232, 7233, 7228]\n",
              "3507  The hotel is located in the city,  The hotel h...  ...                                [7229, 7230, 7228]\n",
              "3174  What I found of various other ITC Hotels is al...  ...  [7237, 7238, 7239, 7228, 7240, 7241, 7242, 7233]\n",
              "\n",
              "[3200 rows x 6 columns]"
            ]
          },
          "metadata": {
            "tags": []
          },
          "execution_count": 116
        }
      ]
    },
    {
      "cell_type": "markdown",
      "metadata": {
        "id": "hqcIX7wqz66a"
      },
      "source": [
        "Combining Indexed Review Summary and Indexed Review Into a Single Column Called All Preprocessed Review"
      ]
    },
    {
      "cell_type": "code",
      "metadata": {
        "id": "L1GGKrxEz7Qw"
      },
      "source": [
        "x_train['all_preprocessed_review'] = x_train['preprocessed_review'] + x_train['preprocessed_review_summary']\n",
        "x_test['all_preprocessed_review'] = x_test['preprocessed_review'] + x_test['preprocessed_review_summary']"
      ],
      "execution_count": 117,
      "outputs": []
    },
    {
      "cell_type": "markdown",
      "metadata": {
        "id": "1AnpM4m3z-CG"
      },
      "source": [
        "Modelling"
      ]
    },
    {
      "cell_type": "markdown",
      "metadata": {
        "id": "N5DbCCnQ0Bn8"
      },
      "source": [
        " Add Padding to Reviews and Capping Reviews to Length 250 Words"
      ]
    },
    {
      "cell_type": "code",
      "metadata": {
        "id": "FLUXaAhL0CTl"
      },
      "source": [
        "x_train = sequence.pad_sequences(x_train['all_preprocessed_review'],value=word_index_dict['<PAD>'],padding='post',maxlen=250)\n",
        "x_test = sequence.pad_sequences(x_test['all_preprocessed_review'],value=word_index_dict['<PAD>'],padding='post',maxlen=250)"
      ],
      "execution_count": 118,
      "outputs": []
    },
    {
      "cell_type": "markdown",
      "metadata": {
        "id": "dgaX2dPW0GNl"
      },
      "source": [
        "Saving Neural Network Preprocessed x Data"
      ]
    },
    {
      "cell_type": "code",
      "metadata": {
        "id": "I3ia97if0GsG"
      },
      "source": [
        "\n",
        "np.save('/content/drive/MyDrive/NLP/Hotel_Review_Classifier_/6.x_test',x_test)"
      ],
      "execution_count": 119,
      "outputs": []
    },
    {
      "cell_type": "markdown",
      "metadata": {
        "id": "8alibyQb0XlW"
      },
      "source": [
        "Creating and Training Neural Network Model"
      ]
    },
    {
      "cell_type": "markdown",
      "metadata": {
        "id": "az56fFe70bRq"
      },
      "source": [
        "Here I created a neural network model with 1 embedding layer for the 17317 unique words\n",
        " (including the extra 4 from padding etc.), 1 dense layer with 16 nodes, and one output layer with 5 nodes for each score."
      ]
    },
    {
      "cell_type": "code",
      "metadata": {
        "id": "lohOavOx0bm4"
      },
      "source": [
        "model = Sequential()\n",
        "model.add(Embedding(17317,16))\n",
        "model.add(GlobalAveragePooling1D())\n",
        "model.add(Dense(16,activation='relu'))\n",
        "model.add(Dense(5,activation='sigmoid'))"
      ],
      "execution_count": 120,
      "outputs": []
    },
    {
      "cell_type": "code",
      "metadata": {
        "id": "qhAsJPMW0c8S"
      },
      "source": [
        "model.compile(optimizer='adam',loss='categorical_crossentropy',metrics=['accuracy'])"
      ],
      "execution_count": 121,
      "outputs": []
    },
    {
      "cell_type": "code",
      "metadata": {
        "id": "G6ThH4Y70dyV"
      },
      "source": [
        "x_train, x_val, y_train, y_val = train_test_split(x_train,y_train,test_size=.2,random_state=42)"
      ],
      "execution_count": 122,
      "outputs": []
    },
    {
      "cell_type": "code",
      "metadata": {
        "id": "aFbsZnz00fT1"
      },
      "source": [
        "fitModel = model.fit(x_train,y_train,epochs=100,batch_size=250,validation_data=(x_val,y_val),verbose=0)"
      ],
      "execution_count": 125,
      "outputs": []
    },
    {
      "cell_type": "markdown",
      "metadata": {
        "id": "uFP0gs8M0lnE"
      },
      "source": [
        "Testing Model"
      ]
    },
    {
      "cell_type": "markdown",
      "metadata": {
        "id": "VREPcBmH0oa6"
      },
      "source": [
        "\n",
        "\n",
        "After looking at accuracy scores for the validation data (0.5568) and the test data (0.5710), we can see the neural network model performs well."
      ]
    },
    {
      "cell_type": "code",
      "metadata": {
        "colab": {
          "base_uri": "https://localhost:8080/"
        },
        "id": "o_em5i1H0owL",
        "outputId": "a2cccf4c-0a95-4aa7-c9ad-739c17de2497"
      },
      "source": [
        "model.evaluate(x_val,y_val)"
      ],
      "execution_count": 126,
      "outputs": [
        {
          "output_type": "stream",
          "text": [
            "20/20 [==============================] - 0s 2ms/step - loss: 0.2623 - accuracy: 0.9062\n"
          ],
          "name": "stdout"
        },
        {
          "output_type": "execute_result",
          "data": {
            "text/plain": [
              "[0.2623198330402374, 0.90625]"
            ]
          },
          "metadata": {
            "tags": []
          },
          "execution_count": 126
        }
      ]
    },
    {
      "cell_type": "code",
      "metadata": {
        "colab": {
          "base_uri": "https://localhost:8080/"
        },
        "id": "iliKmd7F0qO5",
        "outputId": "db366224-9f66-4a20-9d48-a282c857a7e7"
      },
      "source": [
        "model.evaluate(x_test,y_test)"
      ],
      "execution_count": 127,
      "outputs": [
        {
          "output_type": "stream",
          "text": [
            "25/25 [==============================] - 0s 2ms/step - loss: 0.2728 - accuracy: 0.9087\n"
          ],
          "name": "stdout"
        },
        {
          "output_type": "execute_result",
          "data": {
            "text/plain": [
              "[0.2727559804916382, 0.9087499976158142]"
            ]
          },
          "metadata": {
            "tags": []
          },
          "execution_count": 127
        }
      ]
    },
    {
      "cell_type": "markdown",
      "metadata": {
        "id": "CK5sEx_a036r"
      },
      "source": [
        "In order to create a confusion matrix, I have to reverse one hot encode the scores column and adjust the index for 0-4 back to 1-5."
      ]
    },
    {
      "cell_type": "markdown",
      "metadata": {
        "id": "6vmN3YWz1Y9Q"
      },
      "source": [
        "Reverse Encode Target Into One Column for Confusion Matrix"
      ]
    },
    {
      "cell_type": "code",
      "metadata": {
        "id": "a104U3bM1ZX7"
      },
      "source": [
        "reverse_encode(y_test)"
      ],
      "execution_count": 129,
      "outputs": []
    },
    {
      "cell_type": "code",
      "metadata": {
        "id": "gGaWj0Fu1ayB"
      },
      "source": [
        "reverse_encode(y_val)"
      ],
      "execution_count": 130,
      "outputs": []
    },
    {
      "cell_type": "code",
      "metadata": {
        "id": "_7NiPyqv1a2j"
      },
      "source": [
        "y_test_predicted = add_one_argmax_score(np.argmax(model.predict(x_test),axis=1))"
      ],
      "execution_count": 131,
      "outputs": []
    },
    {
      "cell_type": "markdown",
      "metadata": {
        "id": "0Bp6XhYs1fGZ"
      },
      "source": [
        "Saving Neural Network Preprocessed y Data\n"
      ]
    },
    {
      "cell_type": "code",
      "metadata": {
        "id": "-dlnOywI1eGN"
      },
      "source": [
        "y_test.to_csv('/content/drive/MyDrive/NLP/Hotel_Review_Classifier_/6.y_test_nn_df.csv',index=False)\n",
        "np.save('/content/drive/MyDrive/NLP/Hotel_Review_Classifier_/6.y_test_predicted_array',y_test_predicted)"
      ],
      "execution_count": 132,
      "outputs": []
    },
    {
      "cell_type": "markdown",
      "metadata": {
        "id": "qcU6OPmi1ryb"
      },
      "source": [
        " Creating Confusion Matrix for Test Data"
      ]
    },
    {
      "cell_type": "code",
      "metadata": {
        "id": "fdcmnU6l1v1d"
      },
      "source": [
        "model.save('/content/drive/MyDrive/NLP/Hotel_Review_Classifier_/Models/Neural_Network.h5')"
      ],
      "execution_count": 135,
      "outputs": []
    },
    {
      "cell_type": "code",
      "metadata": {
        "id": "Ujeq9ELh1_4L"
      },
      "source": [
        "pickle.dump(word_index_dict,open('/content/drive/MyDrive/NLP/Hotel_Review_Classifier_/Models/word_index_dict.pkl','wb'))"
      ],
      "execution_count": 136,
      "outputs": []
    },
    {
      "cell_type": "code",
      "metadata": {
        "id": "mpWVozxm2Cz5"
      },
      "source": [
        ""
      ],
      "execution_count": null,
      "outputs": []
    }
  ]
}