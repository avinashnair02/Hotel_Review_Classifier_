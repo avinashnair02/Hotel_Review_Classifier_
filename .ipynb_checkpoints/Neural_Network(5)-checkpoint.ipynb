{
 "cells": [
  {
   "cell_type": "code",
   "execution_count": 3,
   "metadata": {
    "colab": {
     "base_uri": "https://localhost:8080/"
    },
    "id": "U62wQzyEpk1Y",
    "outputId": "e374f688-bab5-412b-e24a-6677d8909751"
   },
   "outputs": [
    {
     "name": "stdout",
     "output_type": "stream",
     "text": [
      "drive  sample_data\n"
     ]
    }
   ],
   "source": [
    "!ls"
   ]
  },
  {
   "cell_type": "code",
   "execution_count": 7,
   "metadata": {
    "colab": {
     "base_uri": "https://localhost:8080/"
    },
    "id": "21RQye3QpbJx",
    "outputId": "d5355161-e780-4331-80c9-7d54af3af23a"
   },
   "outputs": [
    {
     "name": "stdout",
     "output_type": "stream",
     "text": [
      "/content/drive/MyDrive/NLP\n"
     ]
    }
   ],
   "source": [
    "%cd /content/drive/MyDrive/NLP\n"
   ]
  },
  {
   "cell_type": "code",
   "execution_count": 11,
   "metadata": {
    "colab": {
     "base_uri": "https://localhost:8080/"
    },
    "id": "XDsH5F7ipthL",
    "outputId": "8df4a57c-d251-4dd5-f30f-21c1b7754066"
   },
   "outputs": [
    {
     "name": "stdout",
     "output_type": "stream",
     "text": [
      "Cloning into 'Hotel_Review_Classifier_'...\n",
      "remote: Enumerating objects: 45, done.\u001b[K\n",
      "remote: Counting objects: 100% (45/45), done.\u001b[K\n",
      "remote: Compressing objects: 100% (33/33), done.\u001b[K\n",
      "remote: Total 45 (delta 11), reused 45 (delta 11), pack-reused 0\u001b[K\n",
      "Unpacking objects: 100% (45/45), done.\n",
      "Checking out files: 100% (45/45), done.\n"
     ]
    }
   ],
   "source": [
    "! git clone  https://github.com/avinashnair02/Hotel_Review_Classifier_"
   ]
  },
  {
   "cell_type": "code",
   "execution_count": 83,
   "metadata": {
    "id": "VVO2T_18rAx4"
   },
   "outputs": [],
   "source": [
    "import sys\n",
    "sys.path.append('/content/drive/MyDrive/NLP/Hotel_Review_Classifier_/Helpers_NN.py')"
   ]
  },
  {
   "cell_type": "code",
   "execution_count": 84,
   "metadata": {
    "id": "c6uE6cH2svuB"
   },
   "outputs": [],
   "source": [
    "import Helpers_NN\n"
   ]
  },
  {
   "cell_type": "code",
   "execution_count": 85,
   "metadata": {
    "id": "x_FyoHKKqCvY"
   },
   "outputs": [],
   "source": [
    "import pandas as pd\n",
    "import numpy as np\n",
    "import seaborn as sns\n",
    "import matplotlib.pyplot as plt\n",
    "\n",
    "from sklearn.model_selection import train_test_split\n",
    "from sklearn.preprocessing import OneHotEncoder\n",
    "from sklearn.metrics import confusion_matrix\n",
    "\n",
    "from tensorflow import keras\n",
    "from keras.preprocessing import sequence\n",
    "from tensorflow.python.keras import Sequential\n",
    "from keras.models import load_model\n",
    "from tensorflow.python.keras.layers import Dense, Embedding, GlobalAveragePooling1D\n",
    "\n",
    "import pickle\n",
    "\n",
    "\n",
    "from Helpers_NN import add_sum_suffix, text_cleanup, reverse_encode, add_one_argmax_score, conf_matrix"
   ]
  },
  {
   "cell_type": "code",
   "execution_count": 86,
   "metadata": {
    "id": "mbfH_cXvsKS8"
   },
   "outputs": [],
   "source": [
    "sns.set_context('poster')"
   ]
  },
  {
   "cell_type": "code",
   "execution_count": 87,
   "metadata": {
    "id": "fPY7x-s7sKVt"
   },
   "outputs": [],
   "source": [
    "df = pd.read_csv('/content/drive/MyDrive/NLP/Hotel_Review_Classifier_/structured.csv')\n",
    "df.review_summary=df.astype(str)"
   ]
  },
  {
   "cell_type": "code",
   "execution_count": 88,
   "metadata": {
    "id": "n9avoA5owT_D"
   },
   "outputs": [],
   "source": []
  },
  {
   "cell_type": "code",
   "execution_count": 89,
   "metadata": {
    "colab": {
     "base_uri": "https://localhost:8080/",
     "height": 202
    },
    "id": "4nU7dXYDq5P_",
    "outputId": "c27823d2-db23-4a3d-af2b-adfce6d8aeaa"
   },
   "outputs": [
    {
     "data": {
      "text/html": [
       "<div>\n",
       "<style scoped>\n",
       "    .dataframe tbody tr th:only-of-type {\n",
       "        vertical-align: middle;\n",
       "    }\n",
       "\n",
       "    .dataframe tbody tr th {\n",
       "        vertical-align: top;\n",
       "    }\n",
       "\n",
       "    .dataframe thead th {\n",
       "        text-align: right;\n",
       "    }\n",
       "</style>\n",
       "<table border=\"1\" class=\"dataframe\">\n",
       "  <thead>\n",
       "    <tr style=\"text-align: right;\">\n",
       "      <th></th>\n",
       "      <th>hotel_name</th>\n",
       "      <th>review_summary</th>\n",
       "      <th>score</th>\n",
       "      <th>review</th>\n",
       "    </tr>\n",
       "  </thead>\n",
       "  <tbody>\n",
       "    <tr>\n",
       "      <th>0</th>\n",
       "      <td>ITC Grand Chola, Chennai - a Luxury Collection...</td>\n",
       "      <td>ITC Grand Chola, Chennai - a Luxury Collection...</td>\n",
       "      <td>1</td>\n",
       "      <td>Hi,  My name is Vijay Jung Thapa - and I staye...</td>\n",
       "    </tr>\n",
       "    <tr>\n",
       "      <th>1</th>\n",
       "      <td>ITC Grand Chola, Chennai - a Luxury Collection...</td>\n",
       "      <td>ITC Grand Chola, Chennai - a Luxury Collection...</td>\n",
       "      <td>1</td>\n",
       "      <td>Hi,  My name is Vijay Jung Thapa - and I staye...</td>\n",
       "    </tr>\n",
       "    <tr>\n",
       "      <th>2</th>\n",
       "      <td>ITC Grand Chola, Chennai - a Luxury Collection...</td>\n",
       "      <td>ITC Grand Chola, Chennai - a Luxury Collection...</td>\n",
       "      <td>1</td>\n",
       "      <td>Hi,  My name is Vijay Jung Thapa - and I staye...</td>\n",
       "    </tr>\n",
       "    <tr>\n",
       "      <th>3</th>\n",
       "      <td>ITC Grand Chola, Chennai - a Luxury Collection...</td>\n",
       "      <td>ITC Grand Chola, Chennai - a Luxury Collection...</td>\n",
       "      <td>1</td>\n",
       "      <td>Hi,  My name is Vijay Jung Thapa - and I staye...</td>\n",
       "    </tr>\n",
       "    <tr>\n",
       "      <th>4</th>\n",
       "      <td>ITC Grand Chola, Chennai - a Luxury Collection...</td>\n",
       "      <td>ITC Grand Chola, Chennai - a Luxury Collection...</td>\n",
       "      <td>1</td>\n",
       "      <td>Hi,  My name is Vijay Jung Thapa - and I staye...</td>\n",
       "    </tr>\n",
       "  </tbody>\n",
       "</table>\n",
       "</div>"
      ],
      "text/plain": [
       "                                          hotel_name  ...                                             review\n",
       "0  ITC Grand Chola, Chennai - a Luxury Collection...  ...  Hi,  My name is Vijay Jung Thapa - and I staye...\n",
       "1  ITC Grand Chola, Chennai - a Luxury Collection...  ...  Hi,  My name is Vijay Jung Thapa - and I staye...\n",
       "2  ITC Grand Chola, Chennai - a Luxury Collection...  ...  Hi,  My name is Vijay Jung Thapa - and I staye...\n",
       "3  ITC Grand Chola, Chennai - a Luxury Collection...  ...  Hi,  My name is Vijay Jung Thapa - and I staye...\n",
       "4  ITC Grand Chola, Chennai - a Luxury Collection...  ...  Hi,  My name is Vijay Jung Thapa - and I staye...\n",
       "\n",
       "[5 rows x 4 columns]"
      ]
     },
     "execution_count": 89,
     "metadata": {
      "tags": []
     },
     "output_type": "execute_result"
    }
   ],
   "source": [
    "df.head()"
   ]
  },
  {
   "cell_type": "code",
   "execution_count": 90,
   "metadata": {
    "colab": {
     "base_uri": "https://localhost:8080/"
    },
    "id": "FgNHAuMst9P-",
    "outputId": "b98b9802-b51d-460a-9d4b-13287ba14da0"
   },
   "outputs": [
    {
     "data": {
      "text/plain": [
       "array([1, 2, 3, 4, 5])"
      ]
     },
     "execution_count": 90,
     "metadata": {
      "tags": []
     },
     "output_type": "execute_result"
    }
   ],
   "source": [
    "df.score.unique()"
   ]
  },
  {
   "cell_type": "code",
   "execution_count": 91,
   "metadata": {
    "id": "wukGolPbuBhC"
   },
   "outputs": [],
   "source": [
    "#One Hot Encoding Scores Column"
   ]
  },
  {
   "cell_type": "code",
   "execution_count": 92,
   "metadata": {
    "id": "9rOlz-c_uLrQ"
   },
   "outputs": [],
   "source": [
    "# For multi-class classifcation using the neural network model, \n",
    "# #I needed the target variable to be one hot encoded, as the output layer would have 5 nodes, 1 for each score."
   ]
  },
  {
   "cell_type": "code",
   "execution_count": 93,
   "metadata": {
    "colab": {
     "base_uri": "https://localhost:8080/",
     "height": 279
    },
    "id": "u5TzI-mPuQLy",
    "outputId": "1530d16c-8edd-4c11-9e02-7f9adce2b058"
   },
   "outputs": [
    {
     "data": {
      "text/html": [
       "<div>\n",
       "<style scoped>\n",
       "    .dataframe tbody tr th:only-of-type {\n",
       "        vertical-align: middle;\n",
       "    }\n",
       "\n",
       "    .dataframe tbody tr th {\n",
       "        vertical-align: top;\n",
       "    }\n",
       "\n",
       "    .dataframe thead th {\n",
       "        text-align: right;\n",
       "    }\n",
       "</style>\n",
       "<table border=\"1\" class=\"dataframe\">\n",
       "  <thead>\n",
       "    <tr style=\"text-align: right;\">\n",
       "      <th></th>\n",
       "      <th>hotel_name</th>\n",
       "      <th>review_summary</th>\n",
       "      <th>score</th>\n",
       "      <th>review</th>\n",
       "      <th>0</th>\n",
       "      <th>1</th>\n",
       "      <th>2</th>\n",
       "      <th>3</th>\n",
       "      <th>4</th>\n",
       "    </tr>\n",
       "  </thead>\n",
       "  <tbody>\n",
       "    <tr>\n",
       "      <th>0</th>\n",
       "      <td>ITC Grand Chola, Chennai - a Luxury Collection...</td>\n",
       "      <td>ITC Grand Chola, Chennai - a Luxury Collection...</td>\n",
       "      <td>1</td>\n",
       "      <td>Hi,  My name is Vijay Jung Thapa - and I staye...</td>\n",
       "      <td>1.0</td>\n",
       "      <td>0.0</td>\n",
       "      <td>0.0</td>\n",
       "      <td>0.0</td>\n",
       "      <td>0.0</td>\n",
       "    </tr>\n",
       "    <tr>\n",
       "      <th>1</th>\n",
       "      <td>ITC Grand Chola, Chennai - a Luxury Collection...</td>\n",
       "      <td>ITC Grand Chola, Chennai - a Luxury Collection...</td>\n",
       "      <td>1</td>\n",
       "      <td>Hi,  My name is Vijay Jung Thapa - and I staye...</td>\n",
       "      <td>1.0</td>\n",
       "      <td>0.0</td>\n",
       "      <td>0.0</td>\n",
       "      <td>0.0</td>\n",
       "      <td>0.0</td>\n",
       "    </tr>\n",
       "    <tr>\n",
       "      <th>2</th>\n",
       "      <td>ITC Grand Chola, Chennai - a Luxury Collection...</td>\n",
       "      <td>ITC Grand Chola, Chennai - a Luxury Collection...</td>\n",
       "      <td>1</td>\n",
       "      <td>Hi,  My name is Vijay Jung Thapa - and I staye...</td>\n",
       "      <td>1.0</td>\n",
       "      <td>0.0</td>\n",
       "      <td>0.0</td>\n",
       "      <td>0.0</td>\n",
       "      <td>0.0</td>\n",
       "    </tr>\n",
       "    <tr>\n",
       "      <th>3</th>\n",
       "      <td>ITC Grand Chola, Chennai - a Luxury Collection...</td>\n",
       "      <td>ITC Grand Chola, Chennai - a Luxury Collection...</td>\n",
       "      <td>1</td>\n",
       "      <td>Hi,  My name is Vijay Jung Thapa - and I staye...</td>\n",
       "      <td>1.0</td>\n",
       "      <td>0.0</td>\n",
       "      <td>0.0</td>\n",
       "      <td>0.0</td>\n",
       "      <td>0.0</td>\n",
       "    </tr>\n",
       "    <tr>\n",
       "      <th>4</th>\n",
       "      <td>ITC Grand Chola, Chennai - a Luxury Collection...</td>\n",
       "      <td>ITC Grand Chola, Chennai - a Luxury Collection...</td>\n",
       "      <td>1</td>\n",
       "      <td>Hi,  My name is Vijay Jung Thapa - and I staye...</td>\n",
       "      <td>1.0</td>\n",
       "      <td>0.0</td>\n",
       "      <td>0.0</td>\n",
       "      <td>0.0</td>\n",
       "      <td>0.0</td>\n",
       "    </tr>\n",
       "  </tbody>\n",
       "</table>\n",
       "</div>"
      ],
      "text/plain": [
       "                                          hotel_name  ...    4\n",
       "0  ITC Grand Chola, Chennai - a Luxury Collection...  ...  0.0\n",
       "1  ITC Grand Chola, Chennai - a Luxury Collection...  ...  0.0\n",
       "2  ITC Grand Chola, Chennai - a Luxury Collection...  ...  0.0\n",
       "3  ITC Grand Chola, Chennai - a Luxury Collection...  ...  0.0\n",
       "4  ITC Grand Chola, Chennai - a Luxury Collection...  ...  0.0\n",
       "\n",
       "[5 rows x 9 columns]"
      ]
     },
     "execution_count": 93,
     "metadata": {
      "tags": []
     },
     "output_type": "execute_result"
    }
   ],
   "source": [
    "enc = OneHotEncoder(handle_unknown='ignore')\n",
    "\n",
    "enc_df = pd.DataFrame(enc.fit_transform(df[['score']]).toarray())\n",
    "\n",
    "df = df.join(enc_df)\n",
    "df.head()"
   ]
  },
  {
   "cell_type": "code",
   "execution_count": 94,
   "metadata": {
    "id": "Ouze1oN4uR2v"
   },
   "outputs": [],
   "source": [
    "df = df.rename(columns={0: \"score_1\", 1:'score_2',2:'score_3',3:'score_4',4:'score_5'})"
   ]
  },
  {
   "cell_type": "code",
   "execution_count": 95,
   "metadata": {
    "colab": {
     "base_uri": "https://localhost:8080/",
     "height": 279
    },
    "id": "6LRtFM3_uTsO",
    "outputId": "72bb183f-1020-4c27-9af5-a91cc79d7420"
   },
   "outputs": [
    {
     "data": {
      "text/html": [
       "<div>\n",
       "<style scoped>\n",
       "    .dataframe tbody tr th:only-of-type {\n",
       "        vertical-align: middle;\n",
       "    }\n",
       "\n",
       "    .dataframe tbody tr th {\n",
       "        vertical-align: top;\n",
       "    }\n",
       "\n",
       "    .dataframe thead th {\n",
       "        text-align: right;\n",
       "    }\n",
       "</style>\n",
       "<table border=\"1\" class=\"dataframe\">\n",
       "  <thead>\n",
       "    <tr style=\"text-align: right;\">\n",
       "      <th></th>\n",
       "      <th>hotel_name</th>\n",
       "      <th>review_summary</th>\n",
       "      <th>score</th>\n",
       "      <th>review</th>\n",
       "      <th>score_1</th>\n",
       "      <th>score_2</th>\n",
       "      <th>score_3</th>\n",
       "      <th>score_4</th>\n",
       "      <th>score_5</th>\n",
       "    </tr>\n",
       "  </thead>\n",
       "  <tbody>\n",
       "    <tr>\n",
       "      <th>0</th>\n",
       "      <td>ITC Grand Chola, Chennai - a Luxury Collection...</td>\n",
       "      <td>ITC Grand Chola, Chennai - a Luxury Collection...</td>\n",
       "      <td>1</td>\n",
       "      <td>Hi,  My name is Vijay Jung Thapa - and I staye...</td>\n",
       "      <td>1.0</td>\n",
       "      <td>0.0</td>\n",
       "      <td>0.0</td>\n",
       "      <td>0.0</td>\n",
       "      <td>0.0</td>\n",
       "    </tr>\n",
       "    <tr>\n",
       "      <th>1</th>\n",
       "      <td>ITC Grand Chola, Chennai - a Luxury Collection...</td>\n",
       "      <td>ITC Grand Chola, Chennai - a Luxury Collection...</td>\n",
       "      <td>1</td>\n",
       "      <td>Hi,  My name is Vijay Jung Thapa - and I staye...</td>\n",
       "      <td>1.0</td>\n",
       "      <td>0.0</td>\n",
       "      <td>0.0</td>\n",
       "      <td>0.0</td>\n",
       "      <td>0.0</td>\n",
       "    </tr>\n",
       "    <tr>\n",
       "      <th>2</th>\n",
       "      <td>ITC Grand Chola, Chennai - a Luxury Collection...</td>\n",
       "      <td>ITC Grand Chola, Chennai - a Luxury Collection...</td>\n",
       "      <td>1</td>\n",
       "      <td>Hi,  My name is Vijay Jung Thapa - and I staye...</td>\n",
       "      <td>1.0</td>\n",
       "      <td>0.0</td>\n",
       "      <td>0.0</td>\n",
       "      <td>0.0</td>\n",
       "      <td>0.0</td>\n",
       "    </tr>\n",
       "    <tr>\n",
       "      <th>3</th>\n",
       "      <td>ITC Grand Chola, Chennai - a Luxury Collection...</td>\n",
       "      <td>ITC Grand Chola, Chennai - a Luxury Collection...</td>\n",
       "      <td>1</td>\n",
       "      <td>Hi,  My name is Vijay Jung Thapa - and I staye...</td>\n",
       "      <td>1.0</td>\n",
       "      <td>0.0</td>\n",
       "      <td>0.0</td>\n",
       "      <td>0.0</td>\n",
       "      <td>0.0</td>\n",
       "    </tr>\n",
       "    <tr>\n",
       "      <th>4</th>\n",
       "      <td>ITC Grand Chola, Chennai - a Luxury Collection...</td>\n",
       "      <td>ITC Grand Chola, Chennai - a Luxury Collection...</td>\n",
       "      <td>1</td>\n",
       "      <td>Hi,  My name is Vijay Jung Thapa - and I staye...</td>\n",
       "      <td>1.0</td>\n",
       "      <td>0.0</td>\n",
       "      <td>0.0</td>\n",
       "      <td>0.0</td>\n",
       "      <td>0.0</td>\n",
       "    </tr>\n",
       "  </tbody>\n",
       "</table>\n",
       "</div>"
      ],
      "text/plain": [
       "                                          hotel_name  ... score_5\n",
       "0  ITC Grand Chola, Chennai - a Luxury Collection...  ...     0.0\n",
       "1  ITC Grand Chola, Chennai - a Luxury Collection...  ...     0.0\n",
       "2  ITC Grand Chola, Chennai - a Luxury Collection...  ...     0.0\n",
       "3  ITC Grand Chola, Chennai - a Luxury Collection...  ...     0.0\n",
       "4  ITC Grand Chola, Chennai - a Luxury Collection...  ...     0.0\n",
       "\n",
       "[5 rows x 9 columns]"
      ]
     },
     "execution_count": 95,
     "metadata": {
      "tags": []
     },
     "output_type": "execute_result"
    }
   ],
   "source": [
    "df.head()"
   ]
  },
  {
   "cell_type": "code",
   "execution_count": 96,
   "metadata": {
    "id": "dfP1YcIzuUVJ"
   },
   "outputs": [],
   "source": [
    "# Train and test split"
   ]
  },
  {
   "cell_type": "code",
   "execution_count": 97,
   "metadata": {
    "id": "nyJ7gT7juXvx"
   },
   "outputs": [],
   "source": [
    "x_train, x_test, y_train, y_test = train_test_split(df[['review','review_summary']], \n",
    "                                                    df[['score_1','score_2','score_3','score_4','score_5']], \n",
    "                                                    test_size=.2, \n",
    "                                                    random_state=42)"
   ]
  },
  {
   "cell_type": "code",
   "execution_count": 98,
   "metadata": {
    "id": "hG3j7nD7uZKs"
   },
   "outputs": [],
   "source": [
    "y_test.to_csv('/content/drive/MyDrive/NLP/6.y_test_ohe.csv',index=False)"
   ]
  },
  {
   "cell_type": "code",
   "execution_count": 99,
   "metadata": {
    "id": "7GtNqV1Zu4vr"
   },
   "outputs": [],
   "source": [
    "#  Add Suffix to the Review Summary to Distinguish the Difference\n",
    "# I wanted the words in the review summary to be separate from the words in the review,\n",
    "#  as they may have a more or less significant impact. Also new data may not contain a review summary and \n",
    "#  the model\n",
    "#  will not accurately reflect the review-only data."
   ]
  },
  {
   "cell_type": "code",
   "execution_count": 100,
   "metadata": {
    "id": "5kTfN8mbu9Tk"
   },
   "outputs": [],
   "source": [
    "x_train['review_summary_suffixed'] = x_train['review_summary'].apply(add_sum_suffix)\n",
    "x_test['review_summary_suffixed'] = x_test['review_summary'].apply(add_sum_suffix)"
   ]
  },
  {
   "cell_type": "code",
   "execution_count": 101,
   "metadata": {
    "colab": {
     "base_uri": "https://localhost:8080/",
     "height": 195
    },
    "id": "ZFFCnquyu_cN",
    "outputId": "30265bc4-eca1-426b-f62b-77a4dd7642f2"
   },
   "outputs": [
    {
     "data": {
      "text/html": [
       "<div>\n",
       "<style scoped>\n",
       "    .dataframe tbody tr th:only-of-type {\n",
       "        vertical-align: middle;\n",
       "    }\n",
       "\n",
       "    .dataframe tbody tr th {\n",
       "        vertical-align: top;\n",
       "    }\n",
       "\n",
       "    .dataframe thead th {\n",
       "        text-align: right;\n",
       "    }\n",
       "</style>\n",
       "<table border=\"1\" class=\"dataframe\">\n",
       "  <thead>\n",
       "    <tr style=\"text-align: right;\">\n",
       "      <th></th>\n",
       "      <th>review</th>\n",
       "      <th>review_summary</th>\n",
       "      <th>review_summary_suffixed</th>\n",
       "    </tr>\n",
       "  </thead>\n",
       "  <tbody>\n",
       "    <tr>\n",
       "      <th>3994</th>\n",
       "      <td>Had a very comfortable stay at Taj Club house ...</td>\n",
       "      <td>Taj Club House</td>\n",
       "      <td>taj_sum club_sum house_sum</td>\n",
       "    </tr>\n",
       "    <tr>\n",
       "      <th>423</th>\n",
       "      <td>I am a hilton Honors silver member and have st...</td>\n",
       "      <td>Hilton Chennai</td>\n",
       "      <td>hilton_sum chennai_sum</td>\n",
       "    </tr>\n",
       "    <tr>\n",
       "      <th>2991</th>\n",
       "      <td>-Good hotel setup with average sized rooms. Ex...</td>\n",
       "      <td>The Park Chennai</td>\n",
       "      <td>the_sum park_sum chennai_sum</td>\n",
       "    </tr>\n",
       "    <tr>\n",
       "      <th>1221</th>\n",
       "      <td>I happen to be at Hilton for a dinner with a f...</td>\n",
       "      <td>Hilton Chennai</td>\n",
       "      <td>hilton_sum chennai_sum</td>\n",
       "    </tr>\n",
       "    <tr>\n",
       "      <th>506</th>\n",
       "      <td>The staff is very nice but big lack of trainin...</td>\n",
       "      <td>Hilton Chennai</td>\n",
       "      <td>hilton_sum chennai_sum</td>\n",
       "    </tr>\n",
       "  </tbody>\n",
       "</table>\n",
       "</div>"
      ],
      "text/plain": [
       "                                                 review  ...        review_summary_suffixed\n",
       "3994  Had a very comfortable stay at Taj Club house ...  ...    taj_sum club_sum house_sum \n",
       "423   I am a hilton Honors silver member and have st...  ...        hilton_sum chennai_sum \n",
       "2991  -Good hotel setup with average sized rooms. Ex...  ...  the_sum park_sum chennai_sum \n",
       "1221  I happen to be at Hilton for a dinner with a f...  ...        hilton_sum chennai_sum \n",
       "506   The staff is very nice but big lack of trainin...  ...        hilton_sum chennai_sum \n",
       "\n",
       "[5 rows x 3 columns]"
      ]
     },
     "execution_count": 101,
     "metadata": {
      "tags": []
     },
     "output_type": "execute_result"
    }
   ],
   "source": [
    "x_train.head()"
   ]
  },
  {
   "cell_type": "code",
   "execution_count": 103,
   "metadata": {
    "id": "R3axn2Iyxr-V"
   },
   "outputs": [],
   "source": [
    "x_train['review_cleaned'] = x_train['review'].apply(text_cleanup)\n",
    "x_test['review_cleaned'] = x_test['review'].apply(text_cleanup)"
   ]
  },
  {
   "cell_type": "code",
   "execution_count": 104,
   "metadata": {
    "colab": {
     "base_uri": "https://localhost:8080/",
     "height": 570
    },
    "id": "kvXvI6CLy4Mx",
    "outputId": "f48f0fb1-0a01-4742-81da-597cd6dc5cc9"
   },
   "outputs": [
    {
     "data": {
      "text/html": [
       "<div>\n",
       "<style scoped>\n",
       "    .dataframe tbody tr th:only-of-type {\n",
       "        vertical-align: middle;\n",
       "    }\n",
       "\n",
       "    .dataframe tbody tr th {\n",
       "        vertical-align: top;\n",
       "    }\n",
       "\n",
       "    .dataframe thead th {\n",
       "        text-align: right;\n",
       "    }\n",
       "</style>\n",
       "<table border=\"1\" class=\"dataframe\">\n",
       "  <thead>\n",
       "    <tr style=\"text-align: right;\">\n",
       "      <th></th>\n",
       "      <th>review</th>\n",
       "      <th>review_summary</th>\n",
       "      <th>review_summary_suffixed</th>\n",
       "      <th>review_cleaned</th>\n",
       "    </tr>\n",
       "  </thead>\n",
       "  <tbody>\n",
       "    <tr>\n",
       "      <th>3994</th>\n",
       "      <td>Had a very comfortable stay at Taj Club house ...</td>\n",
       "      <td>Taj Club House</td>\n",
       "      <td>taj_sum club_sum house_sum</td>\n",
       "      <td>had a very comfortable stay at taj club house ...</td>\n",
       "    </tr>\n",
       "    <tr>\n",
       "      <th>423</th>\n",
       "      <td>I am a hilton Honors silver member and have st...</td>\n",
       "      <td>Hilton Chennai</td>\n",
       "      <td>hilton_sum chennai_sum</td>\n",
       "      <td>i am a hilton honors silver member and have st...</td>\n",
       "    </tr>\n",
       "    <tr>\n",
       "      <th>2991</th>\n",
       "      <td>-Good hotel setup with average sized rooms. Ex...</td>\n",
       "      <td>The Park Chennai</td>\n",
       "      <td>the_sum park_sum chennai_sum</td>\n",
       "      <td>good hotel setup with average sized rooms exec...</td>\n",
       "    </tr>\n",
       "    <tr>\n",
       "      <th>1221</th>\n",
       "      <td>I happen to be at Hilton for a dinner with a f...</td>\n",
       "      <td>Hilton Chennai</td>\n",
       "      <td>hilton_sum chennai_sum</td>\n",
       "      <td>i happen to be at hilton for a dinner with a f...</td>\n",
       "    </tr>\n",
       "    <tr>\n",
       "      <th>506</th>\n",
       "      <td>The staff is very nice but big lack of trainin...</td>\n",
       "      <td>Hilton Chennai</td>\n",
       "      <td>hilton_sum chennai_sum</td>\n",
       "      <td>the staff is very nice but big lack of trainin...</td>\n",
       "    </tr>\n",
       "    <tr>\n",
       "      <th>...</th>\n",
       "      <td>...</td>\n",
       "      <td>...</td>\n",
       "      <td>...</td>\n",
       "      <td>...</td>\n",
       "    </tr>\n",
       "    <tr>\n",
       "      <th>1130</th>\n",
       "      <td>I was on a family visit to Chennai few weeks a...</td>\n",
       "      <td>Taj Club House</td>\n",
       "      <td>taj_sum club_sum house_sum</td>\n",
       "      <td>i was on a family visit to chennai few weeks a...</td>\n",
       "    </tr>\n",
       "    <tr>\n",
       "      <th>1294</th>\n",
       "      <td>We recently had a 2 night visit to The Park. T...</td>\n",
       "      <td>The Park Chennai</td>\n",
       "      <td>the_sum park_sum chennai_sum</td>\n",
       "      <td>we recently had a night visit to the park the ...</td>\n",
       "    </tr>\n",
       "    <tr>\n",
       "      <th>860</th>\n",
       "      <td>We had unfortunately stayed in this hotel for ...</td>\n",
       "      <td>Lemon Tree Hotel, Chennai</td>\n",
       "      <td>lemon_sum tree_sum hotel_sum chennai_sum</td>\n",
       "      <td>we had unfortunately stayed in this hotel for ...</td>\n",
       "    </tr>\n",
       "    <tr>\n",
       "      <th>3507</th>\n",
       "      <td>The hotel is located in the city,  The hotel h...</td>\n",
       "      <td>The Park Chennai</td>\n",
       "      <td>the_sum park_sum chennai_sum</td>\n",
       "      <td>the hotel is located in the city the hotel has...</td>\n",
       "    </tr>\n",
       "    <tr>\n",
       "      <th>3174</th>\n",
       "      <td>What I found of various other ITC Hotels is al...</td>\n",
       "      <td>ITC Grand Chola, Chennai - a Luxury Collection...</td>\n",
       "      <td>itc_sum grand_sum chola_sum chennai_sum a_sum ...</td>\n",
       "      <td>what i found of various other itc hotels is al...</td>\n",
       "    </tr>\n",
       "  </tbody>\n",
       "</table>\n",
       "<p>3200 rows × 4 columns</p>\n",
       "</div>"
      ],
      "text/plain": [
       "                                                 review  ...                                     review_cleaned\n",
       "3994  Had a very comfortable stay at Taj Club house ...  ...  had a very comfortable stay at taj club house ...\n",
       "423   I am a hilton Honors silver member and have st...  ...  i am a hilton honors silver member and have st...\n",
       "2991  -Good hotel setup with average sized rooms. Ex...  ...  good hotel setup with average sized rooms exec...\n",
       "1221  I happen to be at Hilton for a dinner with a f...  ...  i happen to be at hilton for a dinner with a f...\n",
       "506   The staff is very nice but big lack of trainin...  ...  the staff is very nice but big lack of trainin...\n",
       "...                                                 ...  ...                                                ...\n",
       "1130  I was on a family visit to Chennai few weeks a...  ...  i was on a family visit to chennai few weeks a...\n",
       "1294  We recently had a 2 night visit to The Park. T...  ...  we recently had a night visit to the park the ...\n",
       "860   We had unfortunately stayed in this hotel for ...  ...  we had unfortunately stayed in this hotel for ...\n",
       "3507  The hotel is located in the city,  The hotel h...  ...  the hotel is located in the city the hotel has...\n",
       "3174  What I found of various other ITC Hotels is al...  ...  what i found of various other itc hotels is al...\n",
       "\n",
       "[3200 rows x 4 columns]"
      ]
     },
     "execution_count": 104,
     "metadata": {
      "tags": []
     },
     "output_type": "execute_result"
    }
   ],
   "source": [
    "x_train"
   ]
  },
  {
   "cell_type": "code",
   "execution_count": null,
   "metadata": {
    "id": "wqL8QT62zWTL"
   },
   "outputs": [],
   "source": [
    "#  Creating a Dictionary With Words That Appear in Reviews and an Index"
   ]
  },
  {
   "cell_type": "code",
   "execution_count": 105,
   "metadata": {
    "id": "h2ms2KyPzcqU"
   },
   "outputs": [],
   "source": [
    "# I created an index for each word in the training review dataset, so when passed through the embedding layer of the neural network there is an indexed number associated with each word."
   ]
  },
  {
   "cell_type": "code",
   "execution_count": 106,
   "metadata": {
    "id": "teZfNAB_zcsc"
   },
   "outputs": [],
   "source": [
    "flat_review = \" \".join(x_train['review_cleaned'].values)\n",
    "flat_review = flat_review.lower().split()"
   ]
  },
  {
   "cell_type": "code",
   "execution_count": 107,
   "metadata": {
    "colab": {
     "base_uri": "https://localhost:8080/"
    },
    "id": "vG1T1agczfEG",
    "outputId": "e3253337-9688-42a7-f0db-9760860072b2"
   },
   "outputs": [
    {
     "data": {
      "text/plain": [
       "317498"
      ]
     },
     "execution_count": 107,
     "metadata": {
      "tags": []
     },
     "output_type": "execute_result"
    }
   ],
   "source": [
    "len(flat_review)"
   ]
  },
  {
   "cell_type": "code",
   "execution_count": 108,
   "metadata": {
    "id": "kcVgr89jzgW5"
   },
   "outputs": [],
   "source": [
    "flat_review_summary = \" \".join(x_train['review_summary_suffixed'].values)\n",
    "flat_review_summary = flat_review_summary.lower().split()"
   ]
  },
  {
   "cell_type": "code",
   "execution_count": 109,
   "metadata": {
    "id": "RSVkFEyjzhmT"
   },
   "outputs": [],
   "source": [
    "unique_list = []\n",
    "for word in flat_review:\n",
    "    if word not in unique_list:\n",
    "        unique_list.append(word)\n",
    "for word in flat_review_summary:\n",
    "    if word not in unique_list:\n",
    "        unique_list.append(word)"
   ]
  },
  {
   "cell_type": "code",
   "execution_count": 110,
   "metadata": {
    "colab": {
     "base_uri": "https://localhost:8080/"
    },
    "id": "SgdHinNJzilz",
    "outputId": "12b75c65-04c8-436f-b617-0f30dfd2062b"
   },
   "outputs": [
    {
     "data": {
      "text/plain": [
       "7242"
      ]
     },
     "execution_count": 110,
     "metadata": {
      "tags": []
     },
     "output_type": "execute_result"
    }
   ],
   "source": [
    "len(unique_list)"
   ]
  },
  {
   "cell_type": "code",
   "execution_count": 111,
   "metadata": {
    "id": "l0Zbidbczl5p"
   },
   "outputs": [],
   "source": [
    "word_index_dict = {}\n",
    "for i in range(0,len(unique_list)):\n",
    "    word_index_dict[unique_list[i]] = i"
   ]
  },
  {
   "cell_type": "markdown",
   "metadata": {
    "id": "Oe_mGv6xzokN"
   },
   "source": [
    "I added 4 other items to the dictionary that represented padding, the start of the review, unknown words, and unused words."
   ]
  },
  {
   "cell_type": "code",
   "execution_count": 112,
   "metadata": {
    "id": "SViMBQ1JzpU7"
   },
   "outputs": [],
   "source": [
    "word_index_dict = {k:(v+4) for k,v in word_index_dict.items()}\n",
    "word_index_dict['<PAD>'] = 0\n",
    "word_index_dict['<START>'] = 1\n",
    "word_index_dict['<UNK>'] = 2\n",
    "word_index_dict['<UNUSED>'] = 3"
   ]
  },
  {
   "cell_type": "markdown",
   "metadata": {
    "id": "jxwLjez6zt46"
   },
   "source": [
    "Indexing Words in Reviews Using Dictionary"
   ]
  },
  {
   "cell_type": "code",
   "execution_count": 113,
   "metadata": {
    "id": "Roj7piKHzuTM"
   },
   "outputs": [],
   "source": [
    "def index_review_words(text):\n",
    "    review_word_list = []\n",
    "    for word in text.lower().split():\n",
    "        if word in word_index_dict.keys():\n",
    "            review_word_list.append(word_index_dict[word])\n",
    "        else:\n",
    "            review_word_list.append(word_index_dict['<UNK>'])\n",
    "\n",
    "    return review_word_list "
   ]
  },
  {
   "cell_type": "code",
   "execution_count": 114,
   "metadata": {
    "id": "WQx4JpFwzwC9"
   },
   "outputs": [],
   "source": [
    "x_train['preprocessed_review'] = x_train['review_cleaned'].apply(index_review_words)\n",
    "x_test['preprocessed_review'] = x_test['review_cleaned'].apply(index_review_words)"
   ]
  },
  {
   "cell_type": "code",
   "execution_count": 115,
   "metadata": {
    "id": "55U3jn7Hzw66"
   },
   "outputs": [],
   "source": [
    "x_train['preprocessed_review_summary'] = x_train['review_summary_suffixed'].apply(index_review_words)\n",
    "x_test['preprocessed_review_summary'] = x_test['review_summary_suffixed'].apply(index_review_words)"
   ]
  },
  {
   "cell_type": "code",
   "execution_count": 116,
   "metadata": {
    "colab": {
     "base_uri": "https://localhost:8080/",
     "height": 721
    },
    "id": "q6mCd_3fzx8v",
    "outputId": "af0fa649-6da4-4649-b312-9c7b16db65d0"
   },
   "outputs": [
    {
     "data": {
      "text/html": [
       "<div>\n",
       "<style scoped>\n",
       "    .dataframe tbody tr th:only-of-type {\n",
       "        vertical-align: middle;\n",
       "    }\n",
       "\n",
       "    .dataframe tbody tr th {\n",
       "        vertical-align: top;\n",
       "    }\n",
       "\n",
       "    .dataframe thead th {\n",
       "        text-align: right;\n",
       "    }\n",
       "</style>\n",
       "<table border=\"1\" class=\"dataframe\">\n",
       "  <thead>\n",
       "    <tr style=\"text-align: right;\">\n",
       "      <th></th>\n",
       "      <th>review</th>\n",
       "      <th>review_summary</th>\n",
       "      <th>review_summary_suffixed</th>\n",
       "      <th>review_cleaned</th>\n",
       "      <th>preprocessed_review</th>\n",
       "      <th>preprocessed_review_summary</th>\n",
       "    </tr>\n",
       "  </thead>\n",
       "  <tbody>\n",
       "    <tr>\n",
       "      <th>3994</th>\n",
       "      <td>Had a very comfortable stay at Taj Club house ...</td>\n",
       "      <td>Taj Club House</td>\n",
       "      <td>taj_sum club_sum house_sum</td>\n",
       "      <td>had a very comfortable stay at taj club house ...</td>\n",
       "      <td>[4, 5, 6, 7, 8, 9, 10, 11, 12, 13, 14, 15, 16,...</td>\n",
       "      <td>[7224, 7225, 7226]</td>\n",
       "    </tr>\n",
       "    <tr>\n",
       "      <th>423</th>\n",
       "      <td>I am a hilton Honors silver member and have st...</td>\n",
       "      <td>Hilton Chennai</td>\n",
       "      <td>hilton_sum chennai_sum</td>\n",
       "      <td>i am a hilton honors silver member and have st...</td>\n",
       "      <td>[42, 43, 5, 44, 45, 46, 47, 48, 49, 50, 14, 51...</td>\n",
       "      <td>[7227, 7228]</td>\n",
       "    </tr>\n",
       "    <tr>\n",
       "      <th>2991</th>\n",
       "      <td>-Good hotel setup with average sized rooms. Ex...</td>\n",
       "      <td>The Park Chennai</td>\n",
       "      <td>the_sum park_sum chennai_sum</td>\n",
       "      <td>good hotel setup with average sized rooms exec...</td>\n",
       "      <td>[109, 96, 110, 26, 111, 112, 25, 113, 114, 115...</td>\n",
       "      <td>[7229, 7230, 7228]</td>\n",
       "    </tr>\n",
       "    <tr>\n",
       "      <th>1221</th>\n",
       "      <td>I happen to be at Hilton for a dinner with a f...</td>\n",
       "      <td>Hilton Chennai</td>\n",
       "      <td>hilton_sum chennai_sum</td>\n",
       "      <td>i happen to be at hilton for a dinner with a f...</td>\n",
       "      <td>[42, 177, 19, 178, 9, 44, 33, 5, 179, 26, 5, 1...</td>\n",
       "      <td>[7227, 7228]</td>\n",
       "    </tr>\n",
       "    <tr>\n",
       "      <th>506</th>\n",
       "      <td>The staff is very nice but big lack of trainin...</td>\n",
       "      <td>Hilton Chennai</td>\n",
       "      <td>hilton_sum chennai_sum</td>\n",
       "      <td>the staff is very nice but big lack of trainin...</td>\n",
       "      <td>[15, 131, 103, 6, 200, 236, 243, 244, 30, 245,...</td>\n",
       "      <td>[7227, 7228]</td>\n",
       "    </tr>\n",
       "    <tr>\n",
       "      <th>...</th>\n",
       "      <td>...</td>\n",
       "      <td>...</td>\n",
       "      <td>...</td>\n",
       "      <td>...</td>\n",
       "      <td>...</td>\n",
       "      <td>...</td>\n",
       "    </tr>\n",
       "    <tr>\n",
       "      <th>1130</th>\n",
       "      <td>I was on a family visit to Chennai few weeks a...</td>\n",
       "      <td>Taj Club House</td>\n",
       "      <td>taj_sum club_sum house_sum</td>\n",
       "      <td>i was on a family visit to chennai few weeks a...</td>\n",
       "      <td>[42, 56, 63, 5, 68, 332, 19, 55, 457, 1414, 14...</td>\n",
       "      <td>[7224, 7225, 7226]</td>\n",
       "    </tr>\n",
       "    <tr>\n",
       "      <th>1294</th>\n",
       "      <td>We recently had a 2 night visit to The Park. T...</td>\n",
       "      <td>The Park Chennai</td>\n",
       "      <td>the_sum park_sum chennai_sum</td>\n",
       "      <td>we recently had a night visit to the park the ...</td>\n",
       "      <td>[69, 2213, 4, 5, 107, 332, 19, 15, 411, 15, 96...</td>\n",
       "      <td>[7229, 7230, 7228]</td>\n",
       "    </tr>\n",
       "    <tr>\n",
       "      <th>860</th>\n",
       "      <td>We had unfortunately stayed in this hotel for ...</td>\n",
       "      <td>Lemon Tree Hotel, Chennai</td>\n",
       "      <td>lemon_sum tree_sum hotel_sum chennai_sum</td>\n",
       "      <td>we had unfortunately stayed in this hotel for ...</td>\n",
       "      <td>[69, 4, 182, 50, 14, 95, 96, 33, 5, 1321, 30, ...</td>\n",
       "      <td>[7231, 7232, 7233, 7228]</td>\n",
       "    </tr>\n",
       "    <tr>\n",
       "      <th>3507</th>\n",
       "      <td>The hotel is located in the city,  The hotel h...</td>\n",
       "      <td>The Park Chennai</td>\n",
       "      <td>the_sum park_sum chennai_sum</td>\n",
       "      <td>the hotel is located in the city the hotel has...</td>\n",
       "      <td>[15, 96, 103, 13, 14, 15, 16, 15, 96, 796, 152...</td>\n",
       "      <td>[7229, 7230, 7228]</td>\n",
       "    </tr>\n",
       "    <tr>\n",
       "      <th>3174</th>\n",
       "      <td>What I found of various other ITC Hotels is al...</td>\n",
       "      <td>ITC Grand Chola, Chennai - a Luxury Collection...</td>\n",
       "      <td>itc_sum grand_sum chola_sum chennai_sum a_sum ...</td>\n",
       "      <td>what i found of various other itc hotels is al...</td>\n",
       "      <td>[167, 42, 448, 30, 445, 388, 1288, 52, 103, 14...</td>\n",
       "      <td>[7237, 7238, 7239, 7228, 7240, 7241, 7242, 7233]</td>\n",
       "    </tr>\n",
       "  </tbody>\n",
       "</table>\n",
       "<p>3200 rows × 6 columns</p>\n",
       "</div>"
      ],
      "text/plain": [
       "                                                 review  ...                       preprocessed_review_summary\n",
       "3994  Had a very comfortable stay at Taj Club house ...  ...                                [7224, 7225, 7226]\n",
       "423   I am a hilton Honors silver member and have st...  ...                                      [7227, 7228]\n",
       "2991  -Good hotel setup with average sized rooms. Ex...  ...                                [7229, 7230, 7228]\n",
       "1221  I happen to be at Hilton for a dinner with a f...  ...                                      [7227, 7228]\n",
       "506   The staff is very nice but big lack of trainin...  ...                                      [7227, 7228]\n",
       "...                                                 ...  ...                                               ...\n",
       "1130  I was on a family visit to Chennai few weeks a...  ...                                [7224, 7225, 7226]\n",
       "1294  We recently had a 2 night visit to The Park. T...  ...                                [7229, 7230, 7228]\n",
       "860   We had unfortunately stayed in this hotel for ...  ...                          [7231, 7232, 7233, 7228]\n",
       "3507  The hotel is located in the city,  The hotel h...  ...                                [7229, 7230, 7228]\n",
       "3174  What I found of various other ITC Hotels is al...  ...  [7237, 7238, 7239, 7228, 7240, 7241, 7242, 7233]\n",
       "\n",
       "[3200 rows x 6 columns]"
      ]
     },
     "execution_count": 116,
     "metadata": {
      "tags": []
     },
     "output_type": "execute_result"
    }
   ],
   "source": [
    "x_train\n",
    "\n"
   ]
  },
  {
   "cell_type": "markdown",
   "metadata": {
    "id": "hqcIX7wqz66a"
   },
   "source": [
    "Combining Indexed Review Summary and Indexed Review Into a Single Column Called All Preprocessed Review"
   ]
  },
  {
   "cell_type": "code",
   "execution_count": 117,
   "metadata": {
    "id": "L1GGKrxEz7Qw"
   },
   "outputs": [],
   "source": [
    "x_train['all_preprocessed_review'] = x_train['preprocessed_review'] + x_train['preprocessed_review_summary']\n",
    "x_test['all_preprocessed_review'] = x_test['preprocessed_review'] + x_test['preprocessed_review_summary']"
   ]
  },
  {
   "cell_type": "markdown",
   "metadata": {
    "id": "1AnpM4m3z-CG"
   },
   "source": [
    "Modelling"
   ]
  },
  {
   "cell_type": "markdown",
   "metadata": {
    "id": "N5DbCCnQ0Bn8"
   },
   "source": [
    " Add Padding to Reviews and Capping Reviews to Length 250 Words"
   ]
  },
  {
   "cell_type": "code",
   "execution_count": 118,
   "metadata": {
    "id": "FLUXaAhL0CTl"
   },
   "outputs": [],
   "source": [
    "x_train = sequence.pad_sequences(x_train['all_preprocessed_review'],value=word_index_dict['<PAD>'],padding='post',maxlen=250)\n",
    "x_test = sequence.pad_sequences(x_test['all_preprocessed_review'],value=word_index_dict['<PAD>'],padding='post',maxlen=250)"
   ]
  },
  {
   "cell_type": "markdown",
   "metadata": {
    "id": "dgaX2dPW0GNl"
   },
   "source": [
    "Saving Neural Network Preprocessed x Data"
   ]
  },
  {
   "cell_type": "code",
   "execution_count": 119,
   "metadata": {
    "id": "I3ia97if0GsG"
   },
   "outputs": [],
   "source": [
    "\n",
    "np.save('/content/drive/MyDrive/NLP/Hotel_Review_Classifier_/6.x_test',x_test)"
   ]
  },
  {
   "cell_type": "markdown",
   "metadata": {
    "id": "8alibyQb0XlW"
   },
   "source": [
    "Creating and Training Neural Network Model"
   ]
  },
  {
   "cell_type": "markdown",
   "metadata": {
    "id": "az56fFe70bRq"
   },
   "source": [
    "Here I created a neural network model with 1 embedding layer for the 17317 unique words\n",
    " (including the extra 4 from padding etc.), 1 dense layer with 16 nodes, and one output layer with 5 nodes for each score."
   ]
  },
  {
   "cell_type": "code",
   "execution_count": 120,
   "metadata": {
    "id": "lohOavOx0bm4"
   },
   "outputs": [],
   "source": [
    "model = Sequential()\n",
    "model.add(Embedding(17317,16))\n",
    "model.add(GlobalAveragePooling1D())\n",
    "model.add(Dense(16,activation='relu'))\n",
    "model.add(Dense(5,activation='sigmoid'))"
   ]
  },
  {
   "cell_type": "code",
   "execution_count": 121,
   "metadata": {
    "id": "qhAsJPMW0c8S"
   },
   "outputs": [],
   "source": [
    "model.compile(optimizer='adam',loss='categorical_crossentropy',metrics=['accuracy'])"
   ]
  },
  {
   "cell_type": "code",
   "execution_count": 122,
   "metadata": {
    "id": "G6ThH4Y70dyV"
   },
   "outputs": [],
   "source": [
    "x_train, x_val, y_train, y_val = train_test_split(x_train,y_train,test_size=.2,random_state=42)"
   ]
  },
  {
   "cell_type": "code",
   "execution_count": 125,
   "metadata": {
    "id": "aFbsZnz00fT1"
   },
   "outputs": [],
   "source": [
    "fitModel = model.fit(x_train,y_train,epochs=100,batch_size=250,validation_data=(x_val,y_val),verbose=0)"
   ]
  },
  {
   "cell_type": "markdown",
   "metadata": {
    "id": "uFP0gs8M0lnE"
   },
   "source": [
    "Testing Model"
   ]
  },
  {
   "cell_type": "markdown",
   "metadata": {
    "id": "VREPcBmH0oa6"
   },
   "source": [
    "\n",
    "\n",
    "After looking at accuracy scores for the validation data (0.5568) and the test data (0.5710), we can see the neural network model performs well."
   ]
  },
  {
   "cell_type": "code",
   "execution_count": 126,
   "metadata": {
    "colab": {
     "base_uri": "https://localhost:8080/"
    },
    "id": "o_em5i1H0owL",
    "outputId": "a2cccf4c-0a95-4aa7-c9ad-739c17de2497"
   },
   "outputs": [
    {
     "name": "stdout",
     "output_type": "stream",
     "text": [
      "20/20 [==============================] - 0s 2ms/step - loss: 0.2623 - accuracy: 0.9062\n"
     ]
    },
    {
     "data": {
      "text/plain": [
       "[0.2623198330402374, 0.90625]"
      ]
     },
     "execution_count": 126,
     "metadata": {
      "tags": []
     },
     "output_type": "execute_result"
    }
   ],
   "source": [
    "model.evaluate(x_val,y_val)"
   ]
  },
  {
   "cell_type": "code",
   "execution_count": 127,
   "metadata": {
    "colab": {
     "base_uri": "https://localhost:8080/"
    },
    "id": "iliKmd7F0qO5",
    "outputId": "db366224-9f66-4a20-9d48-a282c857a7e7"
   },
   "outputs": [
    {
     "name": "stdout",
     "output_type": "stream",
     "text": [
      "25/25 [==============================] - 0s 2ms/step - loss: 0.2728 - accuracy: 0.9087\n"
     ]
    },
    {
     "data": {
      "text/plain": [
       "[0.2727559804916382, 0.9087499976158142]"
      ]
     },
     "execution_count": 127,
     "metadata": {
      "tags": []
     },
     "output_type": "execute_result"
    }
   ],
   "source": [
    "model.evaluate(x_test,y_test)"
   ]
  },
  {
   "cell_type": "markdown",
   "metadata": {
    "id": "CK5sEx_a036r"
   },
   "source": [
    "In order to create a confusion matrix, I have to reverse one hot encode the scores column and adjust the index for 0-4 back to 1-5."
   ]
  },
  {
   "cell_type": "markdown",
   "metadata": {
    "id": "6vmN3YWz1Y9Q"
   },
   "source": [
    "Reverse Encode Target Into One Column for Confusion Matrix"
   ]
  },
  {
   "cell_type": "code",
   "execution_count": 129,
   "metadata": {
    "id": "a104U3bM1ZX7"
   },
   "outputs": [],
   "source": [
    "reverse_encode(y_test)"
   ]
  },
  {
   "cell_type": "code",
   "execution_count": 130,
   "metadata": {
    "id": "gGaWj0Fu1ayB"
   },
   "outputs": [],
   "source": [
    "reverse_encode(y_val)"
   ]
  },
  {
   "cell_type": "code",
   "execution_count": 131,
   "metadata": {
    "id": "_7NiPyqv1a2j"
   },
   "outputs": [],
   "source": [
    "y_test_predicted = add_one_argmax_score(np.argmax(model.predict(x_test),axis=1))"
   ]
  },
  {
   "cell_type": "markdown",
   "metadata": {
    "id": "0Bp6XhYs1fGZ"
   },
   "source": [
    "Saving Neural Network Preprocessed y Data\n"
   ]
  },
  {
   "cell_type": "code",
   "execution_count": 132,
   "metadata": {
    "id": "-dlnOywI1eGN"
   },
   "outputs": [],
   "source": [
    "y_test.to_csv('/content/drive/MyDrive/NLP/Hotel_Review_Classifier_/6.y_test_nn_df.csv',index=False)\n",
    "np.save('/content/drive/MyDrive/NLP/Hotel_Review_Classifier_/6.y_test_predicted_array',y_test_predicted)"
   ]
  },
  {
   "cell_type": "markdown",
   "metadata": {
    "id": "qcU6OPmi1ryb"
   },
   "source": [
    " Creating Confusion Matrix for Test Data"
   ]
  },
  {
   "cell_type": "code",
   "execution_count": 135,
   "metadata": {
    "id": "fdcmnU6l1v1d"
   },
   "outputs": [],
   "source": [
    "model.save('/content/drive/MyDrive/NLP/Hotel_Review_Classifier_/Models/Neural_Network.h5')"
   ]
  },
  {
   "cell_type": "code",
   "execution_count": 136,
   "metadata": {
    "id": "Ujeq9ELh1_4L"
   },
   "outputs": [],
   "source": [
    "pickle.dump(word_index_dict,open('/content/drive/MyDrive/NLP/Hotel_Review_Classifier_/Models/word_index_dict.pkl','wb'))"
   ]
  },
  {
   "cell_type": "code",
   "execution_count": null,
   "metadata": {
    "id": "mpWVozxm2Cz5"
   },
   "outputs": [],
   "source": []
  }
 ],
 "metadata": {
  "accelerator": "GPU",
  "colab": {
   "collapsed_sections": [],
   "name": "Neural_Network.ipynb",
   "provenance": []
  },
  "kernelspec": {
   "display_name": "Python 3",
   "language": "python",
   "name": "python3"
  },
  "language_info": {
   "codemirror_mode": {
    "name": "ipython",
    "version": 3
   },
   "file_extension": ".py",
   "mimetype": "text/x-python",
   "name": "python",
   "nbconvert_exporter": "python",
   "pygments_lexer": "ipython3",
   "version": "3.8.5"
  }
 },
 "nbformat": 4,
 "nbformat_minor": 1
}
